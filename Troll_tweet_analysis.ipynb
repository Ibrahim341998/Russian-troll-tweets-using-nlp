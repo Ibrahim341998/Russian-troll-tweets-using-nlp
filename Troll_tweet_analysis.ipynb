{
  "nbformat": 4,
  "nbformat_minor": 0,
  "metadata": {
    "colab": {
      "provenance": [],
      "collapsed_sections": [],
      "mount_file_id": "1sxKyh8giaNLB5FiJGsAdX8r0jptTNczw",
      "authorship_tag": "ABX9TyPmcyGh7PJRYC63rs4Jtceg",
      "include_colab_link": true
    },
    "kernelspec": {
      "name": "python3",
      "display_name": "Python 3"
    },
    "language_info": {
      "name": "python"
    },
    "gpuClass": "standard"
  },
  "cells": [
    {
      "cell_type": "markdown",
      "metadata": {
        "id": "view-in-github",
        "colab_type": "text"
      },
      "source": [
        "<a href=\"https://colab.research.google.com/github/Ibrahim341998/Russian-troll-tweets-using-nlp/blob/main/Troll_tweet_analysis.ipynb\" target=\"_parent\"><img src=\"https://colab.research.google.com/assets/colab-badge.svg\" alt=\"Open In Colab\"/></a>"
      ]
    },
    {
      "cell_type": "markdown",
      "source": [
        "# **Russian Troll tweets analysis using NLP.**"
      ],
      "metadata": {
        "id": "8_y_Bva1Zp5s"
      }
    },
    {
      "cell_type": "markdown",
      "source": [
        "### Data cleaning and reshaping the data."
      ],
      "metadata": {
        "id": "fB6cTkrqZ-vK"
      }
    },
    {
      "cell_type": "code",
      "source": [
        "#import the required libraries.\n",
        "import pandas as pd\n",
        "import numpy as np\n",
        "import matplotlib.pyplot as plt\n",
        "import os\n",
        "import re\n",
        "import seaborn as sns\n",
        "\n",
        "%matplotlib inline"
      ],
      "metadata": {
        "id": "bl68vhnfYzNO"
      },
      "execution_count": 41,
      "outputs": []
    },
    {
      "cell_type": "code",
      "source": [
        "## Merge Multiple 1M Rows CSV file\n",
        "# 1. defines path to csv files\n",
        "path = \"/content/drive/MyDrive/russian-troll-tweets/\"\n",
        "\n",
        "# 2. creates list with files to merge based on name convention\n",
        "file_list = [path + f for f in os.listdir(path) if f.startswith('IRAhandle_tweets_')]\n",
        "\n",
        "# 3. creates empty list to include the content of each file converted to pandas DF\n",
        "csv_list = []\n",
        " \n",
        "# 4. reads each (sorted) file in file_list, converts it to pandas DF and appends it to the csv_list\n",
        "for file in sorted(file_list):\n",
        "    csv_list.append(pd.read_csv(file).assign(File_Name = os.path.basename(file)))\n",
        "\n",
        "# 5. merges single pandas DFs into a single DF, index is refreshed \n",
        "tweets_df = pd.concat(csv_list, ignore_index=True)\n",
        "\n",
        "# 6. Single DF is saved to the path in CSV format, without index column\n",
        "tweets_df.to_csv(path + 'tweets_full.csv', index=False)"
      ],
      "metadata": {
        "colab": {
          "base_uri": "https://localhost:8080/"
        },
        "id": "VnvhOj4ifr1g",
        "outputId": "f76bf177-5dad-4592-dddf-b301c3acf159"
      },
      "execution_count": 3,
      "outputs": [
        {
          "output_type": "stream",
          "name": "stderr",
          "text": [
            "/usr/local/lib/python3.7/dist-packages/IPython/core/interactiveshell.py:3326: DtypeWarning: Columns (20) have mixed types.Specify dtype option on import or set low_memory=False.\n",
            "  exec(code_obj, self.user_global_ns, self.user_ns)\n",
            "/usr/local/lib/python3.7/dist-packages/IPython/core/interactiveshell.py:3326: DtypeWarning: Columns (10,20) have mixed types.Specify dtype option on import or set low_memory=False.\n",
            "  exec(code_obj, self.user_global_ns, self.user_ns)\n",
            "/usr/local/lib/python3.7/dist-packages/IPython/core/interactiveshell.py:3326: DtypeWarning: Columns (0,15,20) have mixed types.Specify dtype option on import or set low_memory=False.\n",
            "  exec(code_obj, self.user_global_ns, self.user_ns)\n"
          ]
        }
      ]
    },
    {
      "cell_type": "code",
      "source": [
        "tweets_df.tail()"
      ],
      "metadata": {
        "id": "NTgLZWsxg5OS",
        "colab": {
          "base_uri": "https://localhost:8080/",
          "height": 508
        },
        "outputId": "13c18964-f338-41b5-8924-e526d3c252b3"
      },
      "execution_count": 4,
      "outputs": [
        {
          "output_type": "execute_result",
          "data": {
            "text/plain": [
              "        external_author_id          author  \\\n",
              "2946202         2260338140  POLITICS_T0DAY   \n",
              "2946203         2260338140  POLITICS_T0DAY   \n",
              "2946204         2260338140  POLITICS_T0DAY   \n",
              "2946205         2260338140  POLITICS_T0DAY   \n",
              "2946206         2260338140  POLITICS_T0DAY   \n",
              "\n",
              "                                                   content         region  \\\n",
              "2946202  Порошенко призвал к полной перезагрузке правит...  United States   \n",
              "2946203  Турецкая атомная бомба появится в 2023 году.  ...  United States   \n",
              "2946204  История одной татуировки.  Тату на предплечье:...  United States   \n",
              "2946205  Индонезия, Китай, золото и isis #Эксклюзив@pol...  United States   \n",
              "2946206  На популярном видеохостинге YouTube опубликова...  United States   \n",
              "\n",
              "        language     publish_date   harvested_date  following  followers  \\\n",
              "2946202  Russian  2/16/2016 22:20  2/16/2016 22:20         92        887   \n",
              "2946203  Russian  2/16/2016 22:25  2/16/2016 22:25         92        887   \n",
              "2946204  Russian  2/16/2016 22:31  2/16/2016 22:31         92        887   \n",
              "2946205  Russian  2/16/2016 22:35  2/16/2016 22:35         92        887   \n",
              "2946206  Russian  2/16/2016 22:40  2/16/2016 22:40         92        887   \n",
              "\n",
              "         updates  ... retweet account_category  new_june_2018 alt_external_id  \\\n",
              "2946202    12934  ...       0       NonEnglish              0      2260338140   \n",
              "2946203    12935  ...       0       NonEnglish              0      2260338140   \n",
              "2946204    12936  ...       0       NonEnglish              0      2260338140   \n",
              "2946205    12937  ...       0       NonEnglish              0      2260338140   \n",
              "2946206    12938  ...       0       NonEnglish              0      2260338140   \n",
              "\n",
              "                   tweet_id  \\\n",
              "2946202  699720021396869121   \n",
              "2946203  699721241553432576   \n",
              "2946204  699722743533674496   \n",
              "2946205  699723798849916928   \n",
              "2946206  699725139705987072   \n",
              "\n",
              "                                               article_url  \\\n",
              "2946202  http://twitter.com/politics_t0day/statuses/699...   \n",
              "2946203  http://twitter.com/politics_t0day/statuses/699...   \n",
              "2946204  http://twitter.com/politics_t0day/statuses/699...   \n",
              "2946205  http://twitter.com/politics_t0day/statuses/699...   \n",
              "2946206  http://twitter.com/politics_t0day/statuses/699...   \n",
              "\n",
              "                                                tco1_step1  \\\n",
              "2946202  https://twitter.com/politics_t0day/status/6997...   \n",
              "2946203  https://twitter.com/politics_t0day/status/6997...   \n",
              "2946204  https://twitter.com/politics_t0day/status/6997...   \n",
              "2946205  https://twitter.com/politics_t0day/status/6997...   \n",
              "2946206                        http://youtu.be/qPzCuKvVn9M   \n",
              "\n",
              "                                        tco2_step1 tco3_step1  \\\n",
              "2946202        http://www.interfax.ru/world/494930        NaN   \n",
              "2946203   http://svpressa.ru/war21/article/142481/        NaN   \n",
              "2946204  http://manzal.livejournal.com/359548.html        NaN   \n",
              "2946205                                        NaN        NaN   \n",
              "2946206                                        NaN        NaN   \n",
              "\n",
              "                      File_Name  \n",
              "2946202  IRAhandle_tweets_9.csv  \n",
              "2946203  IRAhandle_tweets_9.csv  \n",
              "2946204  IRAhandle_tweets_9.csv  \n",
              "2946205  IRAhandle_tweets_9.csv  \n",
              "2946206  IRAhandle_tweets_9.csv  \n",
              "\n",
              "[5 rows x 22 columns]"
            ],
            "text/html": [
              "\n",
              "  <div id=\"df-3ba97025-7eb3-46b7-8f9b-87dfb3bf64b9\">\n",
              "    <div class=\"colab-df-container\">\n",
              "      <div>\n",
              "<style scoped>\n",
              "    .dataframe tbody tr th:only-of-type {\n",
              "        vertical-align: middle;\n",
              "    }\n",
              "\n",
              "    .dataframe tbody tr th {\n",
              "        vertical-align: top;\n",
              "    }\n",
              "\n",
              "    .dataframe thead th {\n",
              "        text-align: right;\n",
              "    }\n",
              "</style>\n",
              "<table border=\"1\" class=\"dataframe\">\n",
              "  <thead>\n",
              "    <tr style=\"text-align: right;\">\n",
              "      <th></th>\n",
              "      <th>external_author_id</th>\n",
              "      <th>author</th>\n",
              "      <th>content</th>\n",
              "      <th>region</th>\n",
              "      <th>language</th>\n",
              "      <th>publish_date</th>\n",
              "      <th>harvested_date</th>\n",
              "      <th>following</th>\n",
              "      <th>followers</th>\n",
              "      <th>updates</th>\n",
              "      <th>...</th>\n",
              "      <th>retweet</th>\n",
              "      <th>account_category</th>\n",
              "      <th>new_june_2018</th>\n",
              "      <th>alt_external_id</th>\n",
              "      <th>tweet_id</th>\n",
              "      <th>article_url</th>\n",
              "      <th>tco1_step1</th>\n",
              "      <th>tco2_step1</th>\n",
              "      <th>tco3_step1</th>\n",
              "      <th>File_Name</th>\n",
              "    </tr>\n",
              "  </thead>\n",
              "  <tbody>\n",
              "    <tr>\n",
              "      <th>2946202</th>\n",
              "      <td>2260338140</td>\n",
              "      <td>POLITICS_T0DAY</td>\n",
              "      <td>Порошенко призвал к полной перезагрузке правит...</td>\n",
              "      <td>United States</td>\n",
              "      <td>Russian</td>\n",
              "      <td>2/16/2016 22:20</td>\n",
              "      <td>2/16/2016 22:20</td>\n",
              "      <td>92</td>\n",
              "      <td>887</td>\n",
              "      <td>12934</td>\n",
              "      <td>...</td>\n",
              "      <td>0</td>\n",
              "      <td>NonEnglish</td>\n",
              "      <td>0</td>\n",
              "      <td>2260338140</td>\n",
              "      <td>699720021396869121</td>\n",
              "      <td>http://twitter.com/politics_t0day/statuses/699...</td>\n",
              "      <td>https://twitter.com/politics_t0day/status/6997...</td>\n",
              "      <td>http://www.interfax.ru/world/494930</td>\n",
              "      <td>NaN</td>\n",
              "      <td>IRAhandle_tweets_9.csv</td>\n",
              "    </tr>\n",
              "    <tr>\n",
              "      <th>2946203</th>\n",
              "      <td>2260338140</td>\n",
              "      <td>POLITICS_T0DAY</td>\n",
              "      <td>Турецкая атомная бомба появится в 2023 году.  ...</td>\n",
              "      <td>United States</td>\n",
              "      <td>Russian</td>\n",
              "      <td>2/16/2016 22:25</td>\n",
              "      <td>2/16/2016 22:25</td>\n",
              "      <td>92</td>\n",
              "      <td>887</td>\n",
              "      <td>12935</td>\n",
              "      <td>...</td>\n",
              "      <td>0</td>\n",
              "      <td>NonEnglish</td>\n",
              "      <td>0</td>\n",
              "      <td>2260338140</td>\n",
              "      <td>699721241553432576</td>\n",
              "      <td>http://twitter.com/politics_t0day/statuses/699...</td>\n",
              "      <td>https://twitter.com/politics_t0day/status/6997...</td>\n",
              "      <td>http://svpressa.ru/war21/article/142481/</td>\n",
              "      <td>NaN</td>\n",
              "      <td>IRAhandle_tweets_9.csv</td>\n",
              "    </tr>\n",
              "    <tr>\n",
              "      <th>2946204</th>\n",
              "      <td>2260338140</td>\n",
              "      <td>POLITICS_T0DAY</td>\n",
              "      <td>История одной татуировки.  Тату на предплечье:...</td>\n",
              "      <td>United States</td>\n",
              "      <td>Russian</td>\n",
              "      <td>2/16/2016 22:31</td>\n",
              "      <td>2/16/2016 22:31</td>\n",
              "      <td>92</td>\n",
              "      <td>887</td>\n",
              "      <td>12936</td>\n",
              "      <td>...</td>\n",
              "      <td>0</td>\n",
              "      <td>NonEnglish</td>\n",
              "      <td>0</td>\n",
              "      <td>2260338140</td>\n",
              "      <td>699722743533674496</td>\n",
              "      <td>http://twitter.com/politics_t0day/statuses/699...</td>\n",
              "      <td>https://twitter.com/politics_t0day/status/6997...</td>\n",
              "      <td>http://manzal.livejournal.com/359548.html</td>\n",
              "      <td>NaN</td>\n",
              "      <td>IRAhandle_tweets_9.csv</td>\n",
              "    </tr>\n",
              "    <tr>\n",
              "      <th>2946205</th>\n",
              "      <td>2260338140</td>\n",
              "      <td>POLITICS_T0DAY</td>\n",
              "      <td>Индонезия, Китай, золото и isis #Эксклюзив@pol...</td>\n",
              "      <td>United States</td>\n",
              "      <td>Russian</td>\n",
              "      <td>2/16/2016 22:35</td>\n",
              "      <td>2/16/2016 22:35</td>\n",
              "      <td>92</td>\n",
              "      <td>887</td>\n",
              "      <td>12937</td>\n",
              "      <td>...</td>\n",
              "      <td>0</td>\n",
              "      <td>NonEnglish</td>\n",
              "      <td>0</td>\n",
              "      <td>2260338140</td>\n",
              "      <td>699723798849916928</td>\n",
              "      <td>http://twitter.com/politics_t0day/statuses/699...</td>\n",
              "      <td>https://twitter.com/politics_t0day/status/6997...</td>\n",
              "      <td>NaN</td>\n",
              "      <td>NaN</td>\n",
              "      <td>IRAhandle_tweets_9.csv</td>\n",
              "    </tr>\n",
              "    <tr>\n",
              "      <th>2946206</th>\n",
              "      <td>2260338140</td>\n",
              "      <td>POLITICS_T0DAY</td>\n",
              "      <td>На популярном видеохостинге YouTube опубликова...</td>\n",
              "      <td>United States</td>\n",
              "      <td>Russian</td>\n",
              "      <td>2/16/2016 22:40</td>\n",
              "      <td>2/16/2016 22:40</td>\n",
              "      <td>92</td>\n",
              "      <td>887</td>\n",
              "      <td>12938</td>\n",
              "      <td>...</td>\n",
              "      <td>0</td>\n",
              "      <td>NonEnglish</td>\n",
              "      <td>0</td>\n",
              "      <td>2260338140</td>\n",
              "      <td>699725139705987072</td>\n",
              "      <td>http://twitter.com/politics_t0day/statuses/699...</td>\n",
              "      <td>http://youtu.be/qPzCuKvVn9M</td>\n",
              "      <td>NaN</td>\n",
              "      <td>NaN</td>\n",
              "      <td>IRAhandle_tweets_9.csv</td>\n",
              "    </tr>\n",
              "  </tbody>\n",
              "</table>\n",
              "<p>5 rows × 22 columns</p>\n",
              "</div>\n",
              "      <button class=\"colab-df-convert\" onclick=\"convertToInteractive('df-3ba97025-7eb3-46b7-8f9b-87dfb3bf64b9')\"\n",
              "              title=\"Convert this dataframe to an interactive table.\"\n",
              "              style=\"display:none;\">\n",
              "        \n",
              "  <svg xmlns=\"http://www.w3.org/2000/svg\" height=\"24px\"viewBox=\"0 0 24 24\"\n",
              "       width=\"24px\">\n",
              "    <path d=\"M0 0h24v24H0V0z\" fill=\"none\"/>\n",
              "    <path d=\"M18.56 5.44l.94 2.06.94-2.06 2.06-.94-2.06-.94-.94-2.06-.94 2.06-2.06.94zm-11 1L8.5 8.5l.94-2.06 2.06-.94-2.06-.94L8.5 2.5l-.94 2.06-2.06.94zm10 10l.94 2.06.94-2.06 2.06-.94-2.06-.94-.94-2.06-.94 2.06-2.06.94z\"/><path d=\"M17.41 7.96l-1.37-1.37c-.4-.4-.92-.59-1.43-.59-.52 0-1.04.2-1.43.59L10.3 9.45l-7.72 7.72c-.78.78-.78 2.05 0 2.83L4 21.41c.39.39.9.59 1.41.59.51 0 1.02-.2 1.41-.59l7.78-7.78 2.81-2.81c.8-.78.8-2.07 0-2.86zM5.41 20L4 18.59l7.72-7.72 1.47 1.35L5.41 20z\"/>\n",
              "  </svg>\n",
              "      </button>\n",
              "      \n",
              "  <style>\n",
              "    .colab-df-container {\n",
              "      display:flex;\n",
              "      flex-wrap:wrap;\n",
              "      gap: 12px;\n",
              "    }\n",
              "\n",
              "    .colab-df-convert {\n",
              "      background-color: #E8F0FE;\n",
              "      border: none;\n",
              "      border-radius: 50%;\n",
              "      cursor: pointer;\n",
              "      display: none;\n",
              "      fill: #1967D2;\n",
              "      height: 32px;\n",
              "      padding: 0 0 0 0;\n",
              "      width: 32px;\n",
              "    }\n",
              "\n",
              "    .colab-df-convert:hover {\n",
              "      background-color: #E2EBFA;\n",
              "      box-shadow: 0px 1px 2px rgba(60, 64, 67, 0.3), 0px 1px 3px 1px rgba(60, 64, 67, 0.15);\n",
              "      fill: #174EA6;\n",
              "    }\n",
              "\n",
              "    [theme=dark] .colab-df-convert {\n",
              "      background-color: #3B4455;\n",
              "      fill: #D2E3FC;\n",
              "    }\n",
              "\n",
              "    [theme=dark] .colab-df-convert:hover {\n",
              "      background-color: #434B5C;\n",
              "      box-shadow: 0px 1px 3px 1px rgba(0, 0, 0, 0.15);\n",
              "      filter: drop-shadow(0px 1px 2px rgba(0, 0, 0, 0.3));\n",
              "      fill: #FFFFFF;\n",
              "    }\n",
              "  </style>\n",
              "\n",
              "      <script>\n",
              "        const buttonEl =\n",
              "          document.querySelector('#df-3ba97025-7eb3-46b7-8f9b-87dfb3bf64b9 button.colab-df-convert');\n",
              "        buttonEl.style.display =\n",
              "          google.colab.kernel.accessAllowed ? 'block' : 'none';\n",
              "\n",
              "        async function convertToInteractive(key) {\n",
              "          const element = document.querySelector('#df-3ba97025-7eb3-46b7-8f9b-87dfb3bf64b9');\n",
              "          const dataTable =\n",
              "            await google.colab.kernel.invokeFunction('convertToInteractive',\n",
              "                                                     [key], {});\n",
              "          if (!dataTable) return;\n",
              "\n",
              "          const docLinkHtml = 'Like what you see? Visit the ' +\n",
              "            '<a target=\"_blank\" href=https://colab.research.google.com/notebooks/data_table.ipynb>data table notebook</a>'\n",
              "            + ' to learn more about interactive tables.';\n",
              "          element.innerHTML = '';\n",
              "          dataTable['output_type'] = 'display_data';\n",
              "          await google.colab.output.renderOutput(dataTable, element);\n",
              "          const docLink = document.createElement('div');\n",
              "          docLink.innerHTML = docLinkHtml;\n",
              "          element.appendChild(docLink);\n",
              "        }\n",
              "      </script>\n",
              "    </div>\n",
              "  </div>\n",
              "  "
            ]
          },
          "metadata": {},
          "execution_count": 4
        }
      ]
    },
    {
      "cell_type": "code",
      "source": [
        "tweets_df.isna().sum().sort_values(ascending=False)"
      ],
      "metadata": {
        "colab": {
          "base_uri": "https://localhost:8080/"
        },
        "id": "4G8se2RWoPJE",
        "outputId": "f8e0b233-26a3-4853-c74a-e830619fdc82"
      },
      "execution_count": 5,
      "outputs": [
        {
          "output_type": "execute_result",
          "data": {
            "text/plain": [
              "tco3_step1            2931207\n",
              "tco2_step1            2235090\n",
              "post_type             1648625\n",
              "tco1_step1             845971\n",
              "region                   8818\n",
              "content                     1\n",
              "external_author_id          0\n",
              "account_category            0\n",
              "article_url                 0\n",
              "tweet_id                    0\n",
              "alt_external_id             0\n",
              "new_june_2018               0\n",
              "account_type                0\n",
              "retweet                     0\n",
              "author                      0\n",
              "updates                     0\n",
              "followers                   0\n",
              "following                   0\n",
              "harvested_date              0\n",
              "publish_date                0\n",
              "language                    0\n",
              "File_Name                   0\n",
              "dtype: int64"
            ]
          },
          "metadata": {},
          "execution_count": 5
        }
      ]
    },
    {
      "cell_type": "code",
      "source": [
        "tweets_df['account_type'].unique()"
      ],
      "metadata": {
        "colab": {
          "base_uri": "https://localhost:8080/"
        },
        "id": "9KyUcdFltCQF",
        "outputId": "0bb13e40-9a3f-4131-f97d-b6ddbaa91d9e"
      },
      "execution_count": 6,
      "outputs": [
        {
          "output_type": "execute_result",
          "data": {
            "text/plain": [
              "array(['Right', 'Russian', 'Koch', 'Italian', 'Left', '?', 'German',\n",
              "       'Spanish', 'Hashtager', 'Arabic', 'local', 'Commercial', 'French',\n",
              "       'Ukranian', 'news', 'Ebola ', 'Portuguese', 'ZAPOROSHIA', 'Uzbek'],\n",
              "      dtype=object)"
            ]
          },
          "metadata": {},
          "execution_count": 6
        }
      ]
    },
    {
      "cell_type": "code",
      "source": [
        "tweets_df['post_type'].unique()"
      ],
      "metadata": {
        "colab": {
          "base_uri": "https://localhost:8080/"
        },
        "id": "OjCr6b3EtRMI",
        "outputId": "185fa96a-927a-4d82-853c-9be97eea6f21"
      },
      "execution_count": 7,
      "outputs": [
        {
          "output_type": "execute_result",
          "data": {
            "text/plain": [
              "array([nan, 'RETWEET', 'QUOTE_TWEET'], dtype=object)"
            ]
          },
          "metadata": {},
          "execution_count": 7
        }
      ]
    },
    {
      "cell_type": "code",
      "source": [
        "tweets_df['region'].unique()"
      ],
      "metadata": {
        "colab": {
          "base_uri": "https://localhost:8080/"
        },
        "id": "VxqvUC7htezC",
        "outputId": "ca6d034c-a5cf-4f9e-aee4-b8799eb9f862"
      },
      "execution_count": 8,
      "outputs": [
        {
          "output_type": "execute_result",
          "data": {
            "text/plain": [
              "array(['Unknown', nan, 'United States', 'Italy', 'United Arab Emirates',\n",
              "       'Japan', 'Israel', 'Azerbaijan', 'Egypt', 'United Kingdom',\n",
              "       'Russian Federation', 'Turkey', 'Iraq', 'Germany', 'France',\n",
              "       'Ukraine', 'Serbia', 'Belarus', 'Greece', 'Czech Republic',\n",
              "       'Finland', 'Latvia', 'Estonia', 'Canada', 'Spain', 'Sweden',\n",
              "       'Denmark', 'Switzerland', 'Saudi Arabia', 'Afghanistan',\n",
              "       'Hong Kong', 'Austria', 'Malaysia', 'Samoa', 'India',\n",
              "       'Iran, Islamic Republic of', 'Mexico'], dtype=object)"
            ]
          },
          "metadata": {},
          "execution_count": 8
        }
      ]
    },
    {
      "cell_type": "code",
      "source": [
        "tweets_df['region'].value_counts()[:10]"
      ],
      "metadata": {
        "colab": {
          "base_uri": "https://localhost:8080/"
        },
        "id": "2VDBYP3Ftp7c",
        "outputId": "a4226d0e-5e9e-4468-e885-e8008c0246e1"
      },
      "execution_count": 9,
      "outputs": [
        {
          "output_type": "execute_result",
          "data": {
            "text/plain": [
              "United States           2046709\n",
              "Unknown                  561994\n",
              "Azerbaijan                96333\n",
              "United Arab Emirates      74675\n",
              "Russian Federation        37589\n",
              "Belarus                   27802\n",
              "Germany                   27178\n",
              "United Kingdom            18048\n",
              "Italy                     13474\n",
              "Iraq                      11117\n",
              "Name: region, dtype: int64"
            ]
          },
          "metadata": {},
          "execution_count": 9
        }
      ]
    },
    {
      "cell_type": "code",
      "source": [
        "tweets_df['account_type'].value_counts()[:10]"
      ],
      "metadata": {
        "colab": {
          "base_uri": "https://localhost:8080/"
        },
        "id": "FaElUaPMt_31",
        "outputId": "bf8223c6-9cf5-48a7-80a2-6700c3b44902"
      },
      "execution_count": 10,
      "outputs": [
        {
          "output_type": "execute_result",
          "data": {
            "text/plain": [
              "Right         711668\n",
              "Russian       704917\n",
              "local         459220\n",
              "Left          427141\n",
              "Hashtager     241786\n",
              "news          139006\n",
              "Commercial    121904\n",
              "German         91511\n",
              "Italian        15680\n",
              "?              13539\n",
              "Name: account_type, dtype: int64"
            ]
          },
          "metadata": {},
          "execution_count": 10
        }
      ]
    },
    {
      "cell_type": "code",
      "source": [
        "#for proportion of each language gets tweet and retweet.\n",
        "tweets_df['language'].value_counts(normalize=True)[:10]"
      ],
      "metadata": {
        "colab": {
          "base_uri": "https://localhost:8080/"
        },
        "id": "tRwOEUIpuLdV",
        "outputId": "48ef7f03-42dd-472e-d333-03bcdbacc3e5"
      },
      "execution_count": 11,
      "outputs": [
        {
          "output_type": "execute_result",
          "data": {
            "text/plain": [
              "English               0.718506\n",
              "Russian               0.207366\n",
              "German                0.029524\n",
              "Ukrainian             0.013125\n",
              "Italian               0.006131\n",
              "Serbian               0.003218\n",
              "Uzbek                 0.003168\n",
              "Bulgarian             0.003135\n",
              "LANGUAGE UNDEFINED    0.002824\n",
              "Arabic                0.002576\n",
              "Name: language, dtype: float64"
            ]
          },
          "metadata": {},
          "execution_count": 11
        }
      ]
    },
    {
      "cell_type": "code",
      "source": [
        "#'author' are the people who are the users of application .\n",
        "#To know the top users who tweet or retweet. To get the knowledge of how there networks\n",
        "#looks like.\n",
        "tweets_df['author'].value_counts()[:20]\n",
        "tweets_df['author'].value_counts()[:20].plot(kind='bar')"
      ],
      "metadata": {
        "colab": {
          "base_uri": "https://localhost:8080/",
          "height": 379
        },
        "id": "968zNdbPuddX",
        "outputId": "3e0b00f9-b587-4597-969d-116c9e2ba2c3"
      },
      "execution_count": 12,
      "outputs": [
        {
          "output_type": "execute_result",
          "data": {
            "text/plain": [
              "<matplotlib.axes._subplots.AxesSubplot at 0x7f75d76fdb10>"
            ]
          },
          "metadata": {},
          "execution_count": 12
        },
        {
          "output_type": "display_data",
          "data": {
            "text/plain": [
              "<Figure size 432x288 with 1 Axes>"
            ],
            "image/png": "[encoded data removed]"
          },
          "metadata": {
            "needs_background": "light"
          }
        }
      ]
    },
    {
      "cell_type": "markdown",
      "source": [
        "# Start cleaning the data"
      ],
      "metadata": {
        "id": "5lo8dGvHfZo1"
      }
    },
    {
      "cell_type": "code",
      "source": [
        "# There is large values of nan's needing to be replaced:\n",
        "tweets_df['post_type'].fillna(value='Other_tweet',\n",
        "                              inplace = True)\n",
        "\n",
        "tweets_df['region'].fillna(value='Unknown',\n",
        "                          inplace=True)\n",
        "\n",
        "tweets_df['account_type']=tweets_df['account_type'].\\\n",
        "replace('?','Unknown')\n",
        "\n",
        "tweets_df['account_type'].fillna(value='Unknown',\n",
        "                                 inplace=True)"
      ],
      "metadata": {
        "id": "ccijhY1Hvvm7"
      },
      "execution_count": 13,
      "outputs": []
    },
    {
      "cell_type": "code",
      "source": [
        "tweets_df['account_type'].unique()"
      ],
      "metadata": {
        "colab": {
          "base_uri": "https://localhost:8080/"
        },
        "id": "yx33kW5BhSjz",
        "outputId": "32cd5f3a-17fc-4448-c1b0-262fc2404f94"
      },
      "execution_count": 14,
      "outputs": [
        {
          "output_type": "execute_result",
          "data": {
            "text/plain": [
              "array(['Right', 'Russian', 'Koch', 'Italian', 'Left', 'Unknown', 'German',\n",
              "       'Spanish', 'Hashtager', 'Arabic', 'local', 'Commercial', 'French',\n",
              "       'Ukranian', 'news', 'Ebola ', 'Portuguese', 'ZAPOROSHIA', 'Uzbek'],\n",
              "      dtype=object)"
            ]
          },
          "metadata": {},
          "execution_count": 14
        }
      ]
    },
    {
      "cell_type": "code",
      "source": [
        "# drop few columns for data cleaning\n",
        "tweets_df.drop(['tco3_step1','tco2_step1', 'tco1_step1'], axis=1, inplace=True)"
      ],
      "metadata": {
        "id": "QgiCRgc9ipxZ"
      },
      "execution_count": 15,
      "outputs": []
    },
    {
      "cell_type": "code",
      "source": [
        "tweets_df.isna().sum().sort_values(ascending=False)"
      ],
      "metadata": {
        "colab": {
          "base_uri": "https://localhost:8080/"
        },
        "id": "cItlE2mdiQaA",
        "outputId": "e60cebcd-ac49-4999-c58f-29e0b7e48353"
      },
      "execution_count": 16,
      "outputs": [
        {
          "output_type": "execute_result",
          "data": {
            "text/plain": [
              "content               1\n",
              "external_author_id    0\n",
              "post_type             0\n",
              "article_url           0\n",
              "tweet_id              0\n",
              "alt_external_id       0\n",
              "new_june_2018         0\n",
              "account_category      0\n",
              "retweet               0\n",
              "account_type          0\n",
              "updates               0\n",
              "author                0\n",
              "followers             0\n",
              "following             0\n",
              "harvested_date        0\n",
              "publish_date          0\n",
              "language              0\n",
              "region                0\n",
              "File_Name             0\n",
              "dtype: int64"
            ]
          },
          "metadata": {},
          "execution_count": 16
        }
      ]
    },
    {
      "cell_type": "code",
      "source": [
        "#Let's investigate the Nan values for each of the columns:\n",
        "\n",
        "#We will drop this useless row:\n",
        "tweets_df[tweets_df.loc[:,'content'].isna()==True]\n",
        "\n",
        "row_to_drop = tweets_df[tweets_df.loc[:,'content'].\\\n",
        "                          isna()==True].index[0]\n",
        "\n",
        "tweets_df.drop(row_to_drop,axis='index',inplace=True)"
      ],
      "metadata": {
        "id": "arZq1MSckSJW"
      },
      "execution_count": 17,
      "outputs": []
    },
    {
      "cell_type": "code",
      "source": [
        "tweets_df = tweets_df.drop(['external_author_id','harvested_date','new_june_2018'],axis=1)\n",
        "tweets_df.head()"
      ],
      "metadata": {
        "colab": {
          "base_uri": "https://localhost:8080/",
          "height": 582
        },
        "id": "WSBI4eeGmH4T",
        "outputId": "aa300e9a-fd14-472f-82ef-c01598a63331"
      },
      "execution_count": 18,
      "outputs": [
        {
          "output_type": "execute_result",
          "data": {
            "text/plain": [
              "   author                                            content   region  \\\n",
              "0  10_GOP  \"We have a sitting Democrat US Senator on tria...  Unknown   \n",
              "1  10_GOP  Marshawn Lynch arrives to game in anti-Trump s...  Unknown   \n",
              "2  10_GOP  Daughter of fallen Navy Sailor delivers powerf...  Unknown   \n",
              "3  10_GOP  JUST IN: President Trump dedicates Presidents ...  Unknown   \n",
              "4  10_GOP  19,000 RESPECTING our National Anthem! #StandF...  Unknown   \n",
              "\n",
              "  language     publish_date  following  followers  updates    post_type  \\\n",
              "0  English  10/1/2017 19:58       1052       9636      253  Other_tweet   \n",
              "1  English  10/1/2017 22:43       1054       9637      254  Other_tweet   \n",
              "2  English  10/1/2017 22:50       1054       9637      255      RETWEET   \n",
              "3  English  10/1/2017 23:52       1062       9642      256  Other_tweet   \n",
              "4  English   10/1/2017 2:13       1050       9645      246      RETWEET   \n",
              "\n",
              "  account_type  retweet account_category     alt_external_id  \\\n",
              "0        Right        0       RightTroll  905874659358453760   \n",
              "1        Right        0       RightTroll  905874659358453760   \n",
              "2        Right        1       RightTroll  905874659358453760   \n",
              "3        Right        0       RightTroll  905874659358453760   \n",
              "4        Right        1       RightTroll  905874659358453760   \n",
              "\n",
              "             tweet_id                                        article_url  \\\n",
              "0  914580356430536707  http://twitter.com/905874659358453760/statuses...   \n",
              "1  914621840496189440  http://twitter.com/905874659358453760/statuses...   \n",
              "2  914623490375979008  http://twitter.com/905874659358453760/statuses...   \n",
              "3  914639143690555392  http://twitter.com/905874659358453760/statuses...   \n",
              "4  914312219952861184  http://twitter.com/905874659358453760/statuses...   \n",
              "\n",
              "                File_Name  \n",
              "0  IRAhandle_tweets_1.csv  \n",
              "1  IRAhandle_tweets_1.csv  \n",
              "2  IRAhandle_tweets_1.csv  \n",
              "3  IRAhandle_tweets_1.csv  \n",
              "4  IRAhandle_tweets_1.csv  "
            ],
            "text/html": [
              "\n",
              "  <div id=\"df-3d850068-b71b-47c6-87b8-77723d1b78c9\">\n",
              "    <div class=\"colab-df-container\">\n",
              "      <div>\n",
              "<style scoped>\n",
              "    .dataframe tbody tr th:only-of-type {\n",
              "        vertical-align: middle;\n",
              "    }\n",
              "\n",
              "    .dataframe tbody tr th {\n",
              "        vertical-align: top;\n",
              "    }\n",
              "\n",
              "    .dataframe thead th {\n",
              "        text-align: right;\n",
              "    }\n",
              "</style>\n",
              "<table border=\"1\" class=\"dataframe\">\n",
              "  <thead>\n",
              "    <tr style=\"text-align: right;\">\n",
              "      <th></th>\n",
              "      <th>author</th>\n",
              "      <th>content</th>\n",
              "      <th>region</th>\n",
              "      <th>language</th>\n",
              "      <th>publish_date</th>\n",
              "      <th>following</th>\n",
              "      <th>followers</th>\n",
              "      <th>updates</th>\n",
              "      <th>post_type</th>\n",
              "      <th>account_type</th>\n",
              "      <th>retweet</th>\n",
              "      <th>account_category</th>\n",
              "      <th>alt_external_id</th>\n",
              "      <th>tweet_id</th>\n",
              "      <th>article_url</th>\n",
              "      <th>File_Name</th>\n",
              "    </tr>\n",
              "  </thead>\n",
              "  <tbody>\n",
              "    <tr>\n",
              "      <th>0</th>\n",
              "      <td>10_GOP</td>\n",
              "      <td>\"We have a sitting Democrat US Senator on tria...</td>\n",
              "      <td>Unknown</td>\n",
              "      <td>English</td>\n",
              "      <td>10/1/2017 19:58</td>\n",
              "      <td>1052</td>\n",
              "      <td>9636</td>\n",
              "      <td>253</td>\n",
              "      <td>Other_tweet</td>\n",
              "      <td>Right</td>\n",
              "      <td>0</td>\n",
              "      <td>RightTroll</td>\n",
              "      <td>905874659358453760</td>\n",
              "      <td>914580356430536707</td>\n",
              "      <td>http://twitter.com/905874659358453760/statuses...</td>\n",
              "      <td>IRAhandle_tweets_1.csv</td>\n",
              "    </tr>\n",
              "    <tr>\n",
              "      <th>1</th>\n",
              "      <td>10_GOP</td>\n",
              "      <td>Marshawn Lynch arrives to game in anti-Trump s...</td>\n",
              "      <td>Unknown</td>\n",
              "      <td>English</td>\n",
              "      <td>10/1/2017 22:43</td>\n",
              "      <td>1054</td>\n",
              "      <td>9637</td>\n",
              "      <td>254</td>\n",
              "      <td>Other_tweet</td>\n",
              "      <td>Right</td>\n",
              "      <td>0</td>\n",
              "      <td>RightTroll</td>\n",
              "      <td>905874659358453760</td>\n",
              "      <td>914621840496189440</td>\n",
              "      <td>http://twitter.com/905874659358453760/statuses...</td>\n",
              "      <td>IRAhandle_tweets_1.csv</td>\n",
              "    </tr>\n",
              "    <tr>\n",
              "      <th>2</th>\n",
              "      <td>10_GOP</td>\n",
              "      <td>Daughter of fallen Navy Sailor delivers powerf...</td>\n",
              "      <td>Unknown</td>\n",
              "      <td>English</td>\n",
              "      <td>10/1/2017 22:50</td>\n",
              "      <td>1054</td>\n",
              "      <td>9637</td>\n",
              "      <td>255</td>\n",
              "      <td>RETWEET</td>\n",
              "      <td>Right</td>\n",
              "      <td>1</td>\n",
              "      <td>RightTroll</td>\n",
              "      <td>905874659358453760</td>\n",
              "      <td>914623490375979008</td>\n",
              "      <td>http://twitter.com/905874659358453760/statuses...</td>\n",
              "      <td>IRAhandle_tweets_1.csv</td>\n",
              "    </tr>\n",
              "    <tr>\n",
              "      <th>3</th>\n",
              "      <td>10_GOP</td>\n",
              "      <td>JUST IN: President Trump dedicates Presidents ...</td>\n",
              "      <td>Unknown</td>\n",
              "      <td>English</td>\n",
              "      <td>10/1/2017 23:52</td>\n",
              "      <td>1062</td>\n",
              "      <td>9642</td>\n",
              "      <td>256</td>\n",
              "      <td>Other_tweet</td>\n",
              "      <td>Right</td>\n",
              "      <td>0</td>\n",
              "      <td>RightTroll</td>\n",
              "      <td>905874659358453760</td>\n",
              "      <td>914639143690555392</td>\n",
              "      <td>http://twitter.com/905874659358453760/statuses...</td>\n",
              "      <td>IRAhandle_tweets_1.csv</td>\n",
              "    </tr>\n",
              "    <tr>\n",
              "      <th>4</th>\n",
              "      <td>10_GOP</td>\n",
              "      <td>19,000 RESPECTING our National Anthem! #StandF...</td>\n",
              "      <td>Unknown</td>\n",
              "      <td>English</td>\n",
              "      <td>10/1/2017 2:13</td>\n",
              "      <td>1050</td>\n",
              "      <td>9645</td>\n",
              "      <td>246</td>\n",
              "      <td>RETWEET</td>\n",
              "      <td>Right</td>\n",
              "      <td>1</td>\n",
              "      <td>RightTroll</td>\n",
              "      <td>905874659358453760</td>\n",
              "      <td>914312219952861184</td>\n",
              "      <td>http://twitter.com/905874659358453760/statuses...</td>\n",
              "      <td>IRAhandle_tweets_1.csv</td>\n",
              "    </tr>\n",
              "  </tbody>\n",
              "</table>\n",
              "</div>\n",
              "      <button class=\"colab-df-convert\" onclick=\"convertToInteractive('df-3d850068-b71b-47c6-87b8-77723d1b78c9')\"\n",
              "              title=\"Convert this dataframe to an interactive table.\"\n",
              "              style=\"display:none;\">\n",
              "        \n",
              "  <svg xmlns=\"http://www.w3.org/2000/svg\" height=\"24px\"viewBox=\"0 0 24 24\"\n",
              "       width=\"24px\">\n",
              "    <path d=\"M0 0h24v24H0V0z\" fill=\"none\"/>\n",
              "    <path d=\"M18.56 5.44l.94 2.06.94-2.06 2.06-.94-2.06-.94-.94-2.06-.94 2.06-2.06.94zm-11 1L8.5 8.5l.94-2.06 2.06-.94-2.06-.94L8.5 2.5l-.94 2.06-2.06.94zm10 10l.94 2.06.94-2.06 2.06-.94-2.06-.94-.94-2.06-.94 2.06-2.06.94z\"/><path d=\"M17.41 7.96l-1.37-1.37c-.4-.4-.92-.59-1.43-.59-.52 0-1.04.2-1.43.59L10.3 9.45l-7.72 7.72c-.78.78-.78 2.05 0 2.83L4 21.41c.39.39.9.59 1.41.59.51 0 1.02-.2 1.41-.59l7.78-7.78 2.81-2.81c.8-.78.8-2.07 0-2.86zM5.41 20L4 18.59l7.72-7.72 1.47 1.35L5.41 20z\"/>\n",
              "  </svg>\n",
              "      </button>\n",
              "      \n",
              "  <style>\n",
              "    .colab-df-container {\n",
              "      display:flex;\n",
              "      flex-wrap:wrap;\n",
              "      gap: 12px;\n",
              "    }\n",
              "\n",
              "    .colab-df-convert {\n",
              "      background-color: #E8F0FE;\n",
              "      border: none;\n",
              "      border-radius: 50%;\n",
              "      cursor: pointer;\n",
              "      display: none;\n",
              "      fill: #1967D2;\n",
              "      height: 32px;\n",
              "      padding: 0 0 0 0;\n",
              "      width: 32px;\n",
              "    }\n",
              "\n",
              "    .colab-df-convert:hover {\n",
              "      background-color: #E2EBFA;\n",
              "      box-shadow: 0px 1px 2px rgba(60, 64, 67, 0.3), 0px 1px 3px 1px rgba(60, 64, 67, 0.15);\n",
              "      fill: #174EA6;\n",
              "    }\n",
              "\n",
              "    [theme=dark] .colab-df-convert {\n",
              "      background-color: #3B4455;\n",
              "      fill: #D2E3FC;\n",
              "    }\n",
              "\n",
              "    [theme=dark] .colab-df-convert:hover {\n",
              "      background-color: #434B5C;\n",
              "      box-shadow: 0px 1px 3px 1px rgba(0, 0, 0, 0.15);\n",
              "      filter: drop-shadow(0px 1px 2px rgba(0, 0, 0, 0.3));\n",
              "      fill: #FFFFFF;\n",
              "    }\n",
              "  </style>\n",
              "\n",
              "      <script>\n",
              "        const buttonEl =\n",
              "          document.querySelector('#df-3d850068-b71b-47c6-87b8-77723d1b78c9 button.colab-df-convert');\n",
              "        buttonEl.style.display =\n",
              "          google.colab.kernel.accessAllowed ? 'block' : 'none';\n",
              "\n",
              "        async function convertToInteractive(key) {\n",
              "          const element = document.querySelector('#df-3d850068-b71b-47c6-87b8-77723d1b78c9');\n",
              "          const dataTable =\n",
              "            await google.colab.kernel.invokeFunction('convertToInteractive',\n",
              "                                                     [key], {});\n",
              "          if (!dataTable) return;\n",
              "\n",
              "          const docLinkHtml = 'Like what you see? Visit the ' +\n",
              "            '<a target=\"_blank\" href=https://colab.research.google.com/notebooks/data_table.ipynb>data table notebook</a>'\n",
              "            + ' to learn more about interactive tables.';\n",
              "          element.innerHTML = '';\n",
              "          dataTable['output_type'] = 'display_data';\n",
              "          await google.colab.output.renderOutput(dataTable, element);\n",
              "          const docLink = document.createElement('div');\n",
              "          docLink.innerHTML = docLinkHtml;\n",
              "          element.appendChild(docLink);\n",
              "        }\n",
              "      </script>\n",
              "    </div>\n",
              "  </div>\n",
              "  "
            ]
          },
          "metadata": {},
          "execution_count": 18
        }
      ]
    },
    {
      "cell_type": "code",
      "source": [
        "#Using regular expression we're gonna rid of this url links.\n",
        "\n",
        "text_wo_http=[]\n",
        "for i in tweets_df['content']:\n",
        "  re_pattern=r'\\b(?:http).+\\b'\n",
        "  re_p=r'http\\S+'\n",
        "  if type(i)==str and re.findall(re_pattern,i):\n",
        "    text_wo_http.append(re.sub(re_p,'',i))\n",
        "  else:\n",
        "    text_wo_http.append(i)\n",
        "  \n",
        "len(text_wo_http)"
      ],
      "metadata": {
        "colab": {
          "base_uri": "https://localhost:8080/"
        },
        "id": "xXcQoQ8snUNc",
        "outputId": "693b95f8-93fa-4107-8e18-459511a97296"
      },
      "execution_count": 21,
      "outputs": [
        {
          "output_type": "execute_result",
          "data": {
            "text/plain": [
              "2946206"
            ]
          },
          "metadata": {},
          "execution_count": 21
        }
      ]
    },
    {
      "cell_type": "code",
      "source": [
        "tweets_df['content_without_http']=text_wo_http"
      ],
      "metadata": {
        "id": "trjtlN0jrLuI"
      },
      "execution_count": 22,
      "outputs": []
    },
    {
      "cell_type": "code",
      "source": [
        "tweets_df.columns"
      ],
      "metadata": {
        "colab": {
          "base_uri": "https://localhost:8080/"
        },
        "id": "vx6tTkWjrz4k",
        "outputId": "d5a08858-4e4b-4521-c36d-365a89a925bf"
      },
      "execution_count": 23,
      "outputs": [
        {
          "output_type": "execute_result",
          "data": {
            "text/plain": [
              "Index(['author', 'content', 'region', 'language', 'publish_date', 'following',\n",
              "       'followers', 'updates', 'post_type', 'account_type', 'retweet',\n",
              "       'account_category', 'alt_external_id', 'tweet_id', 'article_url',\n",
              "       'File_Name', 'content_without_http'],\n",
              "      dtype='object')"
            ]
          },
          "metadata": {},
          "execution_count": 23
        }
      ]
    },
    {
      "cell_type": "code",
      "source": [
        "tweets_df.tail(8)"
      ],
      "metadata": {
        "colab": {
          "base_uri": "https://localhost:8080/",
          "height": 624
        },
        "id": "VvwK-7H8r3La",
        "outputId": "5ef79978-dc39-45ee-da18-e6824fb40d91"
      },
      "execution_count": 24,
      "outputs": [
        {
          "output_type": "execute_result",
          "data": {
            "text/plain": [
              "                 author                                            content  \\\n",
              "2946199  POLITICS_T0DAY  Украина и Россия договорились о взаимном возвр...   \n",
              "2946200  POLITICS_T0DAY  Авиация США летит к российским границам с учеб...   \n",
              "2946201  POLITICS_T0DAY                            https://t.co/c4qNrR2a4U   \n",
              "2946202  POLITICS_T0DAY  Порошенко призвал к полной перезагрузке правит...   \n",
              "2946203  POLITICS_T0DAY  Турецкая атомная бомба появится в 2023 году.  ...   \n",
              "2946204  POLITICS_T0DAY  История одной татуировки.  Тату на предплечье:...   \n",
              "2946205  POLITICS_T0DAY  Индонезия, Китай, золото и isis #Эксклюзив@pol...   \n",
              "2946206  POLITICS_T0DAY  На популярном видеохостинге YouTube опубликова...   \n",
              "\n",
              "                region language     publish_date  following  followers  \\\n",
              "2946199  United States  Russian  2/16/2016 22:05         92        887   \n",
              "2946200  United States  Russian  2/16/2016 22:10         92        887   \n",
              "2946201  United States  Russian  2/16/2016 22:15         92        887   \n",
              "2946202  United States  Russian  2/16/2016 22:20         92        887   \n",
              "2946203  United States  Russian  2/16/2016 22:25         92        887   \n",
              "2946204  United States  Russian  2/16/2016 22:31         92        887   \n",
              "2946205  United States  Russian  2/16/2016 22:35         92        887   \n",
              "2946206  United States  Russian  2/16/2016 22:40         92        887   \n",
              "\n",
              "         updates    post_type account_type  retweet account_category  \\\n",
              "2946199    12931  Other_tweet      Russian        0       NonEnglish   \n",
              "2946200    12932  Other_tweet      Russian        0       NonEnglish   \n",
              "2946201    12933  Other_tweet      Russian        0       NonEnglish   \n",
              "2946202    12934  Other_tweet      Russian        0       NonEnglish   \n",
              "2946203    12935  Other_tweet      Russian        0       NonEnglish   \n",
              "2946204    12936  Other_tweet      Russian        0       NonEnglish   \n",
              "2946205    12937  Other_tweet      Russian        0       NonEnglish   \n",
              "2946206    12938  Other_tweet      Russian        0       NonEnglish   \n",
              "\n",
              "        alt_external_id            tweet_id  \\\n",
              "2946199      2260338140  699716326131163137   \n",
              "2946200      2260338140  699717486535688192   \n",
              "2946201      2260338140  699718717333184512   \n",
              "2946202      2260338140  699720021396869121   \n",
              "2946203      2260338140  699721241553432576   \n",
              "2946204      2260338140  699722743533674496   \n",
              "2946205      2260338140  699723798849916928   \n",
              "2946206      2260338140  699725139705987072   \n",
              "\n",
              "                                               article_url  \\\n",
              "2946199  http://twitter.com/politics_t0day/statuses/699...   \n",
              "2946200  http://twitter.com/politics_t0day/statuses/699...   \n",
              "2946201  http://twitter.com/politics_t0day/statuses/699...   \n",
              "2946202  http://twitter.com/politics_t0day/statuses/699...   \n",
              "2946203  http://twitter.com/politics_t0day/statuses/699...   \n",
              "2946204  http://twitter.com/politics_t0day/statuses/699...   \n",
              "2946205  http://twitter.com/politics_t0day/statuses/699...   \n",
              "2946206  http://twitter.com/politics_t0day/statuses/699...   \n",
              "\n",
              "                      File_Name  \\\n",
              "2946199  IRAhandle_tweets_9.csv   \n",
              "2946200  IRAhandle_tweets_9.csv   \n",
              "2946201  IRAhandle_tweets_9.csv   \n",
              "2946202  IRAhandle_tweets_9.csv   \n",
              "2946203  IRAhandle_tweets_9.csv   \n",
              "2946204  IRAhandle_tweets_9.csv   \n",
              "2946205  IRAhandle_tweets_9.csv   \n",
              "2946206  IRAhandle_tweets_9.csv   \n",
              "\n",
              "                                      content_without_http  \n",
              "2946199  Украина и Россия договорились о взаимном возвр...  \n",
              "2946200  Авиация США летит к российским границам с учеб...  \n",
              "2946201                                                     \n",
              "2946202  Порошенко призвал к полной перезагрузке правит...  \n",
              "2946203  Турецкая атомная бомба появится в 2023 году.  ...  \n",
              "2946204  История одной татуировки.  Тату на предплечье:...  \n",
              "2946205  Индонезия, Китай, золото и isis #Эксклюзив@pol...  \n",
              "2946206  На популярном видеохостинге YouTube опубликова...  "
            ],
            "text/html": [
              "\n",
              "  <div id=\"df-776e2623-68f9-4270-80f4-bf1a59ca2d3b\">\n",
              "    <div class=\"colab-df-container\">\n",
              "      <div>\n",
              "<style scoped>\n",
              "    .dataframe tbody tr th:only-of-type {\n",
              "        vertical-align: middle;\n",
              "    }\n",
              "\n",
              "    .dataframe tbody tr th {\n",
              "        vertical-align: top;\n",
              "    }\n",
              "\n",
              "    .dataframe thead th {\n",
              "        text-align: right;\n",
              "    }\n",
              "</style>\n",
              "<table border=\"1\" class=\"dataframe\">\n",
              "  <thead>\n",
              "    <tr style=\"text-align: right;\">\n",
              "      <th></th>\n",
              "      <th>author</th>\n",
              "      <th>content</th>\n",
              "      <th>region</th>\n",
              "      <th>language</th>\n",
              "      <th>publish_date</th>\n",
              "      <th>following</th>\n",
              "      <th>followers</th>\n",
              "      <th>updates</th>\n",
              "      <th>post_type</th>\n",
              "      <th>account_type</th>\n",
              "      <th>retweet</th>\n",
              "      <th>account_category</th>\n",
              "      <th>alt_external_id</th>\n",
              "      <th>tweet_id</th>\n",
              "      <th>article_url</th>\n",
              "      <th>File_Name</th>\n",
              "      <th>content_without_http</th>\n",
              "    </tr>\n",
              "  </thead>\n",
              "  <tbody>\n",
              "    <tr>\n",
              "      <th>2946199</th>\n",
              "      <td>POLITICS_T0DAY</td>\n",
              "      <td>Украина и Россия договорились о взаимном возвр...</td>\n",
              "      <td>United States</td>\n",
              "      <td>Russian</td>\n",
              "      <td>2/16/2016 22:05</td>\n",
              "      <td>92</td>\n",
              "      <td>887</td>\n",
              "      <td>12931</td>\n",
              "      <td>Other_tweet</td>\n",
              "      <td>Russian</td>\n",
              "      <td>0</td>\n",
              "      <td>NonEnglish</td>\n",
              "      <td>2260338140</td>\n",
              "      <td>699716326131163137</td>\n",
              "      <td>http://twitter.com/politics_t0day/statuses/699...</td>\n",
              "      <td>IRAhandle_tweets_9.csv</td>\n",
              "      <td>Украина и Россия договорились о взаимном возвр...</td>\n",
              "    </tr>\n",
              "    <tr>\n",
              "      <th>2946200</th>\n",
              "      <td>POLITICS_T0DAY</td>\n",
              "      <td>Авиация США летит к российским границам с учеб...</td>\n",
              "      <td>United States</td>\n",
              "      <td>Russian</td>\n",
              "      <td>2/16/2016 22:10</td>\n",
              "      <td>92</td>\n",
              "      <td>887</td>\n",
              "      <td>12932</td>\n",
              "      <td>Other_tweet</td>\n",
              "      <td>Russian</td>\n",
              "      <td>0</td>\n",
              "      <td>NonEnglish</td>\n",
              "      <td>2260338140</td>\n",
              "      <td>699717486535688192</td>\n",
              "      <td>http://twitter.com/politics_t0day/statuses/699...</td>\n",
              "      <td>IRAhandle_tweets_9.csv</td>\n",
              "      <td>Авиация США летит к российским границам с учеб...</td>\n",
              "    </tr>\n",
              "    <tr>\n",
              "      <th>2946201</th>\n",
              "      <td>POLITICS_T0DAY</td>\n",
              "      <td>https://t.co/c4qNrR2a4U</td>\n",
              "      <td>United States</td>\n",
              "      <td>Russian</td>\n",
              "      <td>2/16/2016 22:15</td>\n",
              "      <td>92</td>\n",
              "      <td>887</td>\n",
              "      <td>12933</td>\n",
              "      <td>Other_tweet</td>\n",
              "      <td>Russian</td>\n",
              "      <td>0</td>\n",
              "      <td>NonEnglish</td>\n",
              "      <td>2260338140</td>\n",
              "      <td>699718717333184512</td>\n",
              "      <td>http://twitter.com/politics_t0day/statuses/699...</td>\n",
              "      <td>IRAhandle_tweets_9.csv</td>\n",
              "      <td></td>\n",
              "    </tr>\n",
              "    <tr>\n",
              "      <th>2946202</th>\n",
              "      <td>POLITICS_T0DAY</td>\n",
              "      <td>Порошенко призвал к полной перезагрузке правит...</td>\n",
              "      <td>United States</td>\n",
              "      <td>Russian</td>\n",
              "      <td>2/16/2016 22:20</td>\n",
              "      <td>92</td>\n",
              "      <td>887</td>\n",
              "      <td>12934</td>\n",
              "      <td>Other_tweet</td>\n",
              "      <td>Russian</td>\n",
              "      <td>0</td>\n",
              "      <td>NonEnglish</td>\n",
              "      <td>2260338140</td>\n",
              "      <td>699720021396869121</td>\n",
              "      <td>http://twitter.com/politics_t0day/statuses/699...</td>\n",
              "      <td>IRAhandle_tweets_9.csv</td>\n",
              "      <td>Порошенко призвал к полной перезагрузке правит...</td>\n",
              "    </tr>\n",
              "    <tr>\n",
              "      <th>2946203</th>\n",
              "      <td>POLITICS_T0DAY</td>\n",
              "      <td>Турецкая атомная бомба появится в 2023 году.  ...</td>\n",
              "      <td>United States</td>\n",
              "      <td>Russian</td>\n",
              "      <td>2/16/2016 22:25</td>\n",
              "      <td>92</td>\n",
              "      <td>887</td>\n",
              "      <td>12935</td>\n",
              "      <td>Other_tweet</td>\n",
              "      <td>Russian</td>\n",
              "      <td>0</td>\n",
              "      <td>NonEnglish</td>\n",
              "      <td>2260338140</td>\n",
              "      <td>699721241553432576</td>\n",
              "      <td>http://twitter.com/politics_t0day/statuses/699...</td>\n",
              "      <td>IRAhandle_tweets_9.csv</td>\n",
              "      <td>Турецкая атомная бомба появится в 2023 году.  ...</td>\n",
              "    </tr>\n",
              "    <tr>\n",
              "      <th>2946204</th>\n",
              "      <td>POLITICS_T0DAY</td>\n",
              "      <td>История одной татуировки.  Тату на предплечье:...</td>\n",
              "      <td>United States</td>\n",
              "      <td>Russian</td>\n",
              "      <td>2/16/2016 22:31</td>\n",
              "      <td>92</td>\n",
              "      <td>887</td>\n",
              "      <td>12936</td>\n",
              "      <td>Other_tweet</td>\n",
              "      <td>Russian</td>\n",
              "      <td>0</td>\n",
              "      <td>NonEnglish</td>\n",
              "      <td>2260338140</td>\n",
              "      <td>699722743533674496</td>\n",
              "      <td>http://twitter.com/politics_t0day/statuses/699...</td>\n",
              "      <td>IRAhandle_tweets_9.csv</td>\n",
              "      <td>История одной татуировки.  Тату на предплечье:...</td>\n",
              "    </tr>\n",
              "    <tr>\n",
              "      <th>2946205</th>\n",
              "      <td>POLITICS_T0DAY</td>\n",
              "      <td>Индонезия, Китай, золото и isis #Эксклюзив@pol...</td>\n",
              "      <td>United States</td>\n",
              "      <td>Russian</td>\n",
              "      <td>2/16/2016 22:35</td>\n",
              "      <td>92</td>\n",
              "      <td>887</td>\n",
              "      <td>12937</td>\n",
              "      <td>Other_tweet</td>\n",
              "      <td>Russian</td>\n",
              "      <td>0</td>\n",
              "      <td>NonEnglish</td>\n",
              "      <td>2260338140</td>\n",
              "      <td>699723798849916928</td>\n",
              "      <td>http://twitter.com/politics_t0day/statuses/699...</td>\n",
              "      <td>IRAhandle_tweets_9.csv</td>\n",
              "      <td>Индонезия, Китай, золото и isis #Эксклюзив@pol...</td>\n",
              "    </tr>\n",
              "    <tr>\n",
              "      <th>2946206</th>\n",
              "      <td>POLITICS_T0DAY</td>\n",
              "      <td>На популярном видеохостинге YouTube опубликова...</td>\n",
              "      <td>United States</td>\n",
              "      <td>Russian</td>\n",
              "      <td>2/16/2016 22:40</td>\n",
              "      <td>92</td>\n",
              "      <td>887</td>\n",
              "      <td>12938</td>\n",
              "      <td>Other_tweet</td>\n",
              "      <td>Russian</td>\n",
              "      <td>0</td>\n",
              "      <td>NonEnglish</td>\n",
              "      <td>2260338140</td>\n",
              "      <td>699725139705987072</td>\n",
              "      <td>http://twitter.com/politics_t0day/statuses/699...</td>\n",
              "      <td>IRAhandle_tweets_9.csv</td>\n",
              "      <td>На популярном видеохостинге YouTube опубликова...</td>\n",
              "    </tr>\n",
              "  </tbody>\n",
              "</table>\n",
              "</div>\n",
              "      <button class=\"colab-df-convert\" onclick=\"convertToInteractive('df-776e2623-68f9-4270-80f4-bf1a59ca2d3b')\"\n",
              "              title=\"Convert this dataframe to an interactive table.\"\n",
              "              style=\"display:none;\">\n",
              "        \n",
              "  <svg xmlns=\"http://www.w3.org/2000/svg\" height=\"24px\"viewBox=\"0 0 24 24\"\n",
              "       width=\"24px\">\n",
              "    <path d=\"M0 0h24v24H0V0z\" fill=\"none\"/>\n",
              "    <path d=\"M18.56 5.44l.94 2.06.94-2.06 2.06-.94-2.06-.94-.94-2.06-.94 2.06-2.06.94zm-11 1L8.5 8.5l.94-2.06 2.06-.94-2.06-.94L8.5 2.5l-.94 2.06-2.06.94zm10 10l.94 2.06.94-2.06 2.06-.94-2.06-.94-.94-2.06-.94 2.06-2.06.94z\"/><path d=\"M17.41 7.96l-1.37-1.37c-.4-.4-.92-.59-1.43-.59-.52 0-1.04.2-1.43.59L10.3 9.45l-7.72 7.72c-.78.78-.78 2.05 0 2.83L4 21.41c.39.39.9.59 1.41.59.51 0 1.02-.2 1.41-.59l7.78-7.78 2.81-2.81c.8-.78.8-2.07 0-2.86zM5.41 20L4 18.59l7.72-7.72 1.47 1.35L5.41 20z\"/>\n",
              "  </svg>\n",
              "      </button>\n",
              "      \n",
              "  <style>\n",
              "    .colab-df-container {\n",
              "      display:flex;\n",
              "      flex-wrap:wrap;\n",
              "      gap: 12px;\n",
              "    }\n",
              "\n",
              "    .colab-df-convert {\n",
              "      background-color: #E8F0FE;\n",
              "      border: none;\n",
              "      border-radius: 50%;\n",
              "      cursor: pointer;\n",
              "      display: none;\n",
              "      fill: #1967D2;\n",
              "      height: 32px;\n",
              "      padding: 0 0 0 0;\n",
              "      width: 32px;\n",
              "    }\n",
              "\n",
              "    .colab-df-convert:hover {\n",
              "      background-color: #E2EBFA;\n",
              "      box-shadow: 0px 1px 2px rgba(60, 64, 67, 0.3), 0px 1px 3px 1px rgba(60, 64, 67, 0.15);\n",
              "      fill: #174EA6;\n",
              "    }\n",
              "\n",
              "    [theme=dark] .colab-df-convert {\n",
              "      background-color: #3B4455;\n",
              "      fill: #D2E3FC;\n",
              "    }\n",
              "\n",
              "    [theme=dark] .colab-df-convert:hover {\n",
              "      background-color: #434B5C;\n",
              "      box-shadow: 0px 1px 3px 1px rgba(0, 0, 0, 0.15);\n",
              "      filter: drop-shadow(0px 1px 2px rgba(0, 0, 0, 0.3));\n",
              "      fill: #FFFFFF;\n",
              "    }\n",
              "  </style>\n",
              "\n",
              "      <script>\n",
              "        const buttonEl =\n",
              "          document.querySelector('#df-776e2623-68f9-4270-80f4-bf1a59ca2d3b button.colab-df-convert');\n",
              "        buttonEl.style.display =\n",
              "          google.colab.kernel.accessAllowed ? 'block' : 'none';\n",
              "\n",
              "        async function convertToInteractive(key) {\n",
              "          const element = document.querySelector('#df-776e2623-68f9-4270-80f4-bf1a59ca2d3b');\n",
              "          const dataTable =\n",
              "            await google.colab.kernel.invokeFunction('convertToInteractive',\n",
              "                                                     [key], {});\n",
              "          if (!dataTable) return;\n",
              "\n",
              "          const docLinkHtml = 'Like what you see? Visit the ' +\n",
              "            '<a target=\"_blank\" href=https://colab.research.google.com/notebooks/data_table.ipynb>data table notebook</a>'\n",
              "            + ' to learn more about interactive tables.';\n",
              "          element.innerHTML = '';\n",
              "          dataTable['output_type'] = 'display_data';\n",
              "          await google.colab.output.renderOutput(dataTable, element);\n",
              "          const docLink = document.createElement('div');\n",
              "          docLink.innerHTML = docLinkHtml;\n",
              "          element.appendChild(docLink);\n",
              "        }\n",
              "      </script>\n",
              "    </div>\n",
              "  </div>\n",
              "  "
            ]
          },
          "metadata": {},
          "execution_count": 24
        }
      ]
    },
    {
      "cell_type": "code",
      "source": [
        "!pip install google_trans_new"
      ],
      "metadata": {
        "colab": {
          "base_uri": "https://localhost:8080/"
        },
        "id": "ZqS1priFsDnB",
        "outputId": "c9f1a3aa-de46-40f4-c2e0-b6062861ce86"
      },
      "execution_count": 25,
      "outputs": [
        {
          "output_type": "stream",
          "name": "stdout",
          "text": [
            "Looking in indexes: https://pypi.org/simple, https://us-python.pkg.dev/colab-wheels/public/simple/\n",
            "Collecting google_trans_new\n",
            "  Downloading google_trans_new-1.1.9-py3-none-any.whl (9.2 kB)\n",
            "Installing collected packages: google-trans-new\n",
            "Successfully installed google-trans-new-1.1.9\n"
          ]
        }
      ]
    },
    {
      "cell_type": "code",
      "source": [
        "# Replace single and double quotes which are going to mess us up!\n",
        "str_repl=[]\n",
        "for i in tweets_df['content_without_http'].values:\n",
        "  re_pat=r'^\"|\"$'\n",
        "  re_pat2=r\"^'|'$\"\n",
        "  #if type(i)==str and re.findall(re_pat,i):\n",
        "    #str_repl.append(i.strip('\"'))\n",
        "  #elif type(i)==str and re.findall(re_pat2,i):\n",
        "    #str_repl.append(i.strip(\"'\"))\n",
        "  #else:\n",
        "    #str_repl.append(i.strip('\"').strip(\"'\"))\n",
        "  str_repl.append(i.replace('\"','').replace(\"'\",''))"
      ],
      "metadata": {
        "id": "eZLZjimZtjuY"
      },
      "execution_count": 26,
      "outputs": []
    },
    {
      "cell_type": "code",
      "source": [
        "str_repl[:3]"
      ],
      "metadata": {
        "colab": {
          "base_uri": "https://localhost:8080/"
        },
        "id": "P-MlErKjxXy7",
        "outputId": "d4b97c1f-e9e2-4784-c4bc-652ddef45ae4"
      },
      "execution_count": 27,
      "outputs": [
        {
          "output_type": "execute_result",
          "data": {
            "text/plain": [
              "['We have a sitting Democrat US Senator on trial for corruption and youve barely heard a peep from the mainstream media. ~ @nedryun ',\n",
              " 'Marshawn Lynch arrives to game in anti-Trump shirt. Judging by his sagging pants the shirt should say Lynch vs. belt ',\n",
              " 'Daughter of fallen Navy Sailor delivers powerful monologue on anthem protests, burns her NFL packers gear.  #BoycottNFL ']"
            ]
          },
          "metadata": {},
          "execution_count": 27
        }
      ]
    },
    {
      "cell_type": "code",
      "source": [
        "#Our problems still exits and we need to investigate it further\n",
        "tweets_df['content_without_http']=str_repl\n",
        "tweets_df.tail()"
      ],
      "metadata": {
        "colab": {
          "base_uri": "https://localhost:8080/",
          "height": 478
        },
        "id": "7qaIw85ExrgT",
        "outputId": "2e3b3c35-7b65-42d1-b396-287a9cbb4141"
      },
      "execution_count": 28,
      "outputs": [
        {
          "output_type": "execute_result",
          "data": {
            "text/plain": [
              "                 author                                            content  \\\n",
              "2946202  POLITICS_T0DAY  Порошенко призвал к полной перезагрузке правит...   \n",
              "2946203  POLITICS_T0DAY  Турецкая атомная бомба появится в 2023 году.  ...   \n",
              "2946204  POLITICS_T0DAY  История одной татуировки.  Тату на предплечье:...   \n",
              "2946205  POLITICS_T0DAY  Индонезия, Китай, золото и isis #Эксклюзив@pol...   \n",
              "2946206  POLITICS_T0DAY  На популярном видеохостинге YouTube опубликова...   \n",
              "\n",
              "                region language     publish_date  following  followers  \\\n",
              "2946202  United States  Russian  2/16/2016 22:20         92        887   \n",
              "2946203  United States  Russian  2/16/2016 22:25         92        887   \n",
              "2946204  United States  Russian  2/16/2016 22:31         92        887   \n",
              "2946205  United States  Russian  2/16/2016 22:35         92        887   \n",
              "2946206  United States  Russian  2/16/2016 22:40         92        887   \n",
              "\n",
              "         updates    post_type account_type  retweet account_category  \\\n",
              "2946202    12934  Other_tweet      Russian        0       NonEnglish   \n",
              "2946203    12935  Other_tweet      Russian        0       NonEnglish   \n",
              "2946204    12936  Other_tweet      Russian        0       NonEnglish   \n",
              "2946205    12937  Other_tweet      Russian        0       NonEnglish   \n",
              "2946206    12938  Other_tweet      Russian        0       NonEnglish   \n",
              "\n",
              "        alt_external_id            tweet_id  \\\n",
              "2946202      2260338140  699720021396869121   \n",
              "2946203      2260338140  699721241553432576   \n",
              "2946204      2260338140  699722743533674496   \n",
              "2946205      2260338140  699723798849916928   \n",
              "2946206      2260338140  699725139705987072   \n",
              "\n",
              "                                               article_url  \\\n",
              "2946202  http://twitter.com/politics_t0day/statuses/699...   \n",
              "2946203  http://twitter.com/politics_t0day/statuses/699...   \n",
              "2946204  http://twitter.com/politics_t0day/statuses/699...   \n",
              "2946205  http://twitter.com/politics_t0day/statuses/699...   \n",
              "2946206  http://twitter.com/politics_t0day/statuses/699...   \n",
              "\n",
              "                      File_Name  \\\n",
              "2946202  IRAhandle_tweets_9.csv   \n",
              "2946203  IRAhandle_tweets_9.csv   \n",
              "2946204  IRAhandle_tweets_9.csv   \n",
              "2946205  IRAhandle_tweets_9.csv   \n",
              "2946206  IRAhandle_tweets_9.csv   \n",
              "\n",
              "                                      content_without_http  \n",
              "2946202  Порошенко призвал к полной перезагрузке правит...  \n",
              "2946203  Турецкая атомная бомба появится в 2023 году.  ...  \n",
              "2946204  История одной татуировки.  Тату на предплечье:...  \n",
              "2946205  Индонезия, Китай, золото и isis #Эксклюзив@pol...  \n",
              "2946206  На популярном видеохостинге YouTube опубликова...  "
            ],
            "text/html": [
              "\n",
              "  <div id=\"df-15962986-d95b-4e99-91c5-19a6ef3a51f2\">\n",
              "    <div class=\"colab-df-container\">\n",
              "      <div>\n",
              "<style scoped>\n",
              "    .dataframe tbody tr th:only-of-type {\n",
              "        vertical-align: middle;\n",
              "    }\n",
              "\n",
              "    .dataframe tbody tr th {\n",
              "        vertical-align: top;\n",
              "    }\n",
              "\n",
              "    .dataframe thead th {\n",
              "        text-align: right;\n",
              "    }\n",
              "</style>\n",
              "<table border=\"1\" class=\"dataframe\">\n",
              "  <thead>\n",
              "    <tr style=\"text-align: right;\">\n",
              "      <th></th>\n",
              "      <th>author</th>\n",
              "      <th>content</th>\n",
              "      <th>region</th>\n",
              "      <th>language</th>\n",
              "      <th>publish_date</th>\n",
              "      <th>following</th>\n",
              "      <th>followers</th>\n",
              "      <th>updates</th>\n",
              "      <th>post_type</th>\n",
              "      <th>account_type</th>\n",
              "      <th>retweet</th>\n",
              "      <th>account_category</th>\n",
              "      <th>alt_external_id</th>\n",
              "      <th>tweet_id</th>\n",
              "      <th>article_url</th>\n",
              "      <th>File_Name</th>\n",
              "      <th>content_without_http</th>\n",
              "    </tr>\n",
              "  </thead>\n",
              "  <tbody>\n",
              "    <tr>\n",
              "      <th>2946202</th>\n",
              "      <td>POLITICS_T0DAY</td>\n",
              "      <td>Порошенко призвал к полной перезагрузке правит...</td>\n",
              "      <td>United States</td>\n",
              "      <td>Russian</td>\n",
              "      <td>2/16/2016 22:20</td>\n",
              "      <td>92</td>\n",
              "      <td>887</td>\n",
              "      <td>12934</td>\n",
              "      <td>Other_tweet</td>\n",
              "      <td>Russian</td>\n",
              "      <td>0</td>\n",
              "      <td>NonEnglish</td>\n",
              "      <td>2260338140</td>\n",
              "      <td>699720021396869121</td>\n",
              "      <td>http://twitter.com/politics_t0day/statuses/699...</td>\n",
              "      <td>IRAhandle_tweets_9.csv</td>\n",
              "      <td>Порошенко призвал к полной перезагрузке правит...</td>\n",
              "    </tr>\n",
              "    <tr>\n",
              "      <th>2946203</th>\n",
              "      <td>POLITICS_T0DAY</td>\n",
              "      <td>Турецкая атомная бомба появится в 2023 году.  ...</td>\n",
              "      <td>United States</td>\n",
              "      <td>Russian</td>\n",
              "      <td>2/16/2016 22:25</td>\n",
              "      <td>92</td>\n",
              "      <td>887</td>\n",
              "      <td>12935</td>\n",
              "      <td>Other_tweet</td>\n",
              "      <td>Russian</td>\n",
              "      <td>0</td>\n",
              "      <td>NonEnglish</td>\n",
              "      <td>2260338140</td>\n",
              "      <td>699721241553432576</td>\n",
              "      <td>http://twitter.com/politics_t0day/statuses/699...</td>\n",
              "      <td>IRAhandle_tweets_9.csv</td>\n",
              "      <td>Турецкая атомная бомба появится в 2023 году.  ...</td>\n",
              "    </tr>\n",
              "    <tr>\n",
              "      <th>2946204</th>\n",
              "      <td>POLITICS_T0DAY</td>\n",
              "      <td>История одной татуировки.  Тату на предплечье:...</td>\n",
              "      <td>United States</td>\n",
              "      <td>Russian</td>\n",
              "      <td>2/16/2016 22:31</td>\n",
              "      <td>92</td>\n",
              "      <td>887</td>\n",
              "      <td>12936</td>\n",
              "      <td>Other_tweet</td>\n",
              "      <td>Russian</td>\n",
              "      <td>0</td>\n",
              "      <td>NonEnglish</td>\n",
              "      <td>2260338140</td>\n",
              "      <td>699722743533674496</td>\n",
              "      <td>http://twitter.com/politics_t0day/statuses/699...</td>\n",
              "      <td>IRAhandle_tweets_9.csv</td>\n",
              "      <td>История одной татуировки.  Тату на предплечье:...</td>\n",
              "    </tr>\n",
              "    <tr>\n",
              "      <th>2946205</th>\n",
              "      <td>POLITICS_T0DAY</td>\n",
              "      <td>Индонезия, Китай, золото и isis #Эксклюзив@pol...</td>\n",
              "      <td>United States</td>\n",
              "      <td>Russian</td>\n",
              "      <td>2/16/2016 22:35</td>\n",
              "      <td>92</td>\n",
              "      <td>887</td>\n",
              "      <td>12937</td>\n",
              "      <td>Other_tweet</td>\n",
              "      <td>Russian</td>\n",
              "      <td>0</td>\n",
              "      <td>NonEnglish</td>\n",
              "      <td>2260338140</td>\n",
              "      <td>699723798849916928</td>\n",
              "      <td>http://twitter.com/politics_t0day/statuses/699...</td>\n",
              "      <td>IRAhandle_tweets_9.csv</td>\n",
              "      <td>Индонезия, Китай, золото и isis #Эксклюзив@pol...</td>\n",
              "    </tr>\n",
              "    <tr>\n",
              "      <th>2946206</th>\n",
              "      <td>POLITICS_T0DAY</td>\n",
              "      <td>На популярном видеохостинге YouTube опубликова...</td>\n",
              "      <td>United States</td>\n",
              "      <td>Russian</td>\n",
              "      <td>2/16/2016 22:40</td>\n",
              "      <td>92</td>\n",
              "      <td>887</td>\n",
              "      <td>12938</td>\n",
              "      <td>Other_tweet</td>\n",
              "      <td>Russian</td>\n",
              "      <td>0</td>\n",
              "      <td>NonEnglish</td>\n",
              "      <td>2260338140</td>\n",
              "      <td>699725139705987072</td>\n",
              "      <td>http://twitter.com/politics_t0day/statuses/699...</td>\n",
              "      <td>IRAhandle_tweets_9.csv</td>\n",
              "      <td>На популярном видеохостинге YouTube опубликова...</td>\n",
              "    </tr>\n",
              "  </tbody>\n",
              "</table>\n",
              "</div>\n",
              "      <button class=\"colab-df-convert\" onclick=\"convertToInteractive('df-15962986-d95b-4e99-91c5-19a6ef3a51f2')\"\n",
              "              title=\"Convert this dataframe to an interactive table.\"\n",
              "              style=\"display:none;\">\n",
              "        \n",
              "  <svg xmlns=\"http://www.w3.org/2000/svg\" height=\"24px\"viewBox=\"0 0 24 24\"\n",
              "       width=\"24px\">\n",
              "    <path d=\"M0 0h24v24H0V0z\" fill=\"none\"/>\n",
              "    <path d=\"M18.56 5.44l.94 2.06.94-2.06 2.06-.94-2.06-.94-.94-2.06-.94 2.06-2.06.94zm-11 1L8.5 8.5l.94-2.06 2.06-.94-2.06-.94L8.5 2.5l-.94 2.06-2.06.94zm10 10l.94 2.06.94-2.06 2.06-.94-2.06-.94-.94-2.06-.94 2.06-2.06.94z\"/><path d=\"M17.41 7.96l-1.37-1.37c-.4-.4-.92-.59-1.43-.59-.52 0-1.04.2-1.43.59L10.3 9.45l-7.72 7.72c-.78.78-.78 2.05 0 2.83L4 21.41c.39.39.9.59 1.41.59.51 0 1.02-.2 1.41-.59l7.78-7.78 2.81-2.81c.8-.78.8-2.07 0-2.86zM5.41 20L4 18.59l7.72-7.72 1.47 1.35L5.41 20z\"/>\n",
              "  </svg>\n",
              "      </button>\n",
              "      \n",
              "  <style>\n",
              "    .colab-df-container {\n",
              "      display:flex;\n",
              "      flex-wrap:wrap;\n",
              "      gap: 12px;\n",
              "    }\n",
              "\n",
              "    .colab-df-convert {\n",
              "      background-color: #E8F0FE;\n",
              "      border: none;\n",
              "      border-radius: 50%;\n",
              "      cursor: pointer;\n",
              "      display: none;\n",
              "      fill: #1967D2;\n",
              "      height: 32px;\n",
              "      padding: 0 0 0 0;\n",
              "      width: 32px;\n",
              "    }\n",
              "\n",
              "    .colab-df-convert:hover {\n",
              "      background-color: #E2EBFA;\n",
              "      box-shadow: 0px 1px 2px rgba(60, 64, 67, 0.3), 0px 1px 3px 1px rgba(60, 64, 67, 0.15);\n",
              "      fill: #174EA6;\n",
              "    }\n",
              "\n",
              "    [theme=dark] .colab-df-convert {\n",
              "      background-color: #3B4455;\n",
              "      fill: #D2E3FC;\n",
              "    }\n",
              "\n",
              "    [theme=dark] .colab-df-convert:hover {\n",
              "      background-color: #434B5C;\n",
              "      box-shadow: 0px 1px 3px 1px rgba(0, 0, 0, 0.15);\n",
              "      filter: drop-shadow(0px 1px 2px rgba(0, 0, 0, 0.3));\n",
              "      fill: #FFFFFF;\n",
              "    }\n",
              "  </style>\n",
              "\n",
              "      <script>\n",
              "        const buttonEl =\n",
              "          document.querySelector('#df-15962986-d95b-4e99-91c5-19a6ef3a51f2 button.colab-df-convert');\n",
              "        buttonEl.style.display =\n",
              "          google.colab.kernel.accessAllowed ? 'block' : 'none';\n",
              "\n",
              "        async function convertToInteractive(key) {\n",
              "          const element = document.querySelector('#df-15962986-d95b-4e99-91c5-19a6ef3a51f2');\n",
              "          const dataTable =\n",
              "            await google.colab.kernel.invokeFunction('convertToInteractive',\n",
              "                                                     [key], {});\n",
              "          if (!dataTable) return;\n",
              "\n",
              "          const docLinkHtml = 'Like what you see? Visit the ' +\n",
              "            '<a target=\"_blank\" href=https://colab.research.google.com/notebooks/data_table.ipynb>data table notebook</a>'\n",
              "            + ' to learn more about interactive tables.';\n",
              "          element.innerHTML = '';\n",
              "          dataTable['output_type'] = 'display_data';\n",
              "          await google.colab.output.renderOutput(dataTable, element);\n",
              "          const docLink = document.createElement('div');\n",
              "          docLink.innerHTML = docLinkHtml;\n",
              "          element.appendChild(docLink);\n",
              "        }\n",
              "      </script>\n",
              "    </div>\n",
              "  </div>\n",
              "  "
            ]
          },
          "metadata": {},
          "execution_count": 28
        }
      ]
    },
    {
      "cell_type": "markdown",
      "source": [
        "# Split data by English and Russian"
      ],
      "metadata": {
        "id": "pU-Nem1gzhgZ"
      }
    },
    {
      "cell_type": "code",
      "source": [
        "#English\n",
        "\n",
        "english_tweets=tweets_df[tweets_df['language']=='English']\n",
        "\n",
        "#Russian\n",
        "Russian_tweets=tweets_df[tweets_df['language']=='Russian']"
      ],
      "metadata": {
        "id": "NyuGdwS-zOEr"
      },
      "execution_count": 29,
      "outputs": []
    },
    {
      "cell_type": "markdown",
      "source": [
        "# EDA and plotting"
      ],
      "metadata": {
        "id": "8yW0EWcs2YUl"
      }
    },
    {
      "cell_type": "code",
      "source": [
        "# we are only looking up for english language as the given the dataset is huge.\n",
        "tr_eng = tweets_df[tweets_df['language']=='English']\n",
        "tr_eng.head()"
      ],
      "metadata": {
        "colab": {
          "base_uri": "https://localhost:8080/",
          "height": 582
        },
        "id": "XdpyCq-d2WZz",
        "outputId": "1d31f10f-ee11-404c-a513-5c0bb78a3a55"
      },
      "execution_count": 30,
      "outputs": [
        {
          "output_type": "execute_result",
          "data": {
            "text/plain": [
              "   author                                            content   region  \\\n",
              "0  10_GOP  \"We have a sitting Democrat US Senator on tria...  Unknown   \n",
              "1  10_GOP  Marshawn Lynch arrives to game in anti-Trump s...  Unknown   \n",
              "2  10_GOP  Daughter of fallen Navy Sailor delivers powerf...  Unknown   \n",
              "3  10_GOP  JUST IN: President Trump dedicates Presidents ...  Unknown   \n",
              "4  10_GOP  19,000 RESPECTING our National Anthem! #StandF...  Unknown   \n",
              "\n",
              "  language     publish_date  following  followers  updates    post_type  \\\n",
              "0  English  10/1/2017 19:58       1052       9636      253  Other_tweet   \n",
              "1  English  10/1/2017 22:43       1054       9637      254  Other_tweet   \n",
              "2  English  10/1/2017 22:50       1054       9637      255      RETWEET   \n",
              "3  English  10/1/2017 23:52       1062       9642      256  Other_tweet   \n",
              "4  English   10/1/2017 2:13       1050       9645      246      RETWEET   \n",
              "\n",
              "  account_type  retweet account_category     alt_external_id  \\\n",
              "0        Right        0       RightTroll  905874659358453760   \n",
              "1        Right        0       RightTroll  905874659358453760   \n",
              "2        Right        1       RightTroll  905874659358453760   \n",
              "3        Right        0       RightTroll  905874659358453760   \n",
              "4        Right        1       RightTroll  905874659358453760   \n",
              "\n",
              "             tweet_id                                        article_url  \\\n",
              "0  914580356430536707  http://twitter.com/905874659358453760/statuses...   \n",
              "1  914621840496189440  http://twitter.com/905874659358453760/statuses...   \n",
              "2  914623490375979008  http://twitter.com/905874659358453760/statuses...   \n",
              "3  914639143690555392  http://twitter.com/905874659358453760/statuses...   \n",
              "4  914312219952861184  http://twitter.com/905874659358453760/statuses...   \n",
              "\n",
              "                File_Name                               content_without_http  \n",
              "0  IRAhandle_tweets_1.csv  We have a sitting Democrat US Senator on trial...  \n",
              "1  IRAhandle_tweets_1.csv  Marshawn Lynch arrives to game in anti-Trump s...  \n",
              "2  IRAhandle_tweets_1.csv  Daughter of fallen Navy Sailor delivers powerf...  \n",
              "3  IRAhandle_tweets_1.csv  JUST IN: President Trump dedicates Presidents ...  \n",
              "4  IRAhandle_tweets_1.csv  19,000 RESPECTING our National Anthem! #StandF...  "
            ],
            "text/html": [
              "\n",
              "  <div id=\"df-f0d0df80-56bc-42b7-a363-c485396cb3c9\">\n",
              "    <div class=\"colab-df-container\">\n",
              "      <div>\n",
              "<style scoped>\n",
              "    .dataframe tbody tr th:only-of-type {\n",
              "        vertical-align: middle;\n",
              "    }\n",
              "\n",
              "    .dataframe tbody tr th {\n",
              "        vertical-align: top;\n",
              "    }\n",
              "\n",
              "    .dataframe thead th {\n",
              "        text-align: right;\n",
              "    }\n",
              "</style>\n",
              "<table border=\"1\" class=\"dataframe\">\n",
              "  <thead>\n",
              "    <tr style=\"text-align: right;\">\n",
              "      <th></th>\n",
              "      <th>author</th>\n",
              "      <th>content</th>\n",
              "      <th>region</th>\n",
              "      <th>language</th>\n",
              "      <th>publish_date</th>\n",
              "      <th>following</th>\n",
              "      <th>followers</th>\n",
              "      <th>updates</th>\n",
              "      <th>post_type</th>\n",
              "      <th>account_type</th>\n",
              "      <th>retweet</th>\n",
              "      <th>account_category</th>\n",
              "      <th>alt_external_id</th>\n",
              "      <th>tweet_id</th>\n",
              "      <th>article_url</th>\n",
              "      <th>File_Name</th>\n",
              "      <th>content_without_http</th>\n",
              "    </tr>\n",
              "  </thead>\n",
              "  <tbody>\n",
              "    <tr>\n",
              "      <th>0</th>\n",
              "      <td>10_GOP</td>\n",
              "      <td>\"We have a sitting Democrat US Senator on tria...</td>\n",
              "      <td>Unknown</td>\n",
              "      <td>English</td>\n",
              "      <td>10/1/2017 19:58</td>\n",
              "      <td>1052</td>\n",
              "      <td>9636</td>\n",
              "      <td>253</td>\n",
              "      <td>Other_tweet</td>\n",
              "      <td>Right</td>\n",
              "      <td>0</td>\n",
              "      <td>RightTroll</td>\n",
              "      <td>905874659358453760</td>\n",
              "      <td>914580356430536707</td>\n",
              "      <td>http://twitter.com/905874659358453760/statuses...</td>\n",
              "      <td>IRAhandle_tweets_1.csv</td>\n",
              "      <td>We have a sitting Democrat US Senator on trial...</td>\n",
              "    </tr>\n",
              "    <tr>\n",
              "      <th>1</th>\n",
              "      <td>10_GOP</td>\n",
              "      <td>Marshawn Lynch arrives to game in anti-Trump s...</td>\n",
              "      <td>Unknown</td>\n",
              "      <td>English</td>\n",
              "      <td>10/1/2017 22:43</td>\n",
              "      <td>1054</td>\n",
              "      <td>9637</td>\n",
              "      <td>254</td>\n",
              "      <td>Other_tweet</td>\n",
              "      <td>Right</td>\n",
              "      <td>0</td>\n",
              "      <td>RightTroll</td>\n",
              "      <td>905874659358453760</td>\n",
              "      <td>914621840496189440</td>\n",
              "      <td>http://twitter.com/905874659358453760/statuses...</td>\n",
              "      <td>IRAhandle_tweets_1.csv</td>\n",
              "      <td>Marshawn Lynch arrives to game in anti-Trump s...</td>\n",
              "    </tr>\n",
              "    <tr>\n",
              "      <th>2</th>\n",
              "      <td>10_GOP</td>\n",
              "      <td>Daughter of fallen Navy Sailor delivers powerf...</td>\n",
              "      <td>Unknown</td>\n",
              "      <td>English</td>\n",
              "      <td>10/1/2017 22:50</td>\n",
              "      <td>1054</td>\n",
              "      <td>9637</td>\n",
              "      <td>255</td>\n",
              "      <td>RETWEET</td>\n",
              "      <td>Right</td>\n",
              "      <td>1</td>\n",
              "      <td>RightTroll</td>\n",
              "      <td>905874659358453760</td>\n",
              "      <td>914623490375979008</td>\n",
              "      <td>http://twitter.com/905874659358453760/statuses...</td>\n",
              "      <td>IRAhandle_tweets_1.csv</td>\n",
              "      <td>Daughter of fallen Navy Sailor delivers powerf...</td>\n",
              "    </tr>\n",
              "    <tr>\n",
              "      <th>3</th>\n",
              "      <td>10_GOP</td>\n",
              "      <td>JUST IN: President Trump dedicates Presidents ...</td>\n",
              "      <td>Unknown</td>\n",
              "      <td>English</td>\n",
              "      <td>10/1/2017 23:52</td>\n",
              "      <td>1062</td>\n",
              "      <td>9642</td>\n",
              "      <td>256</td>\n",
              "      <td>Other_tweet</td>\n",
              "      <td>Right</td>\n",
              "      <td>0</td>\n",
              "      <td>RightTroll</td>\n",
              "      <td>905874659358453760</td>\n",
              "      <td>914639143690555392</td>\n",
              "      <td>http://twitter.com/905874659358453760/statuses...</td>\n",
              "      <td>IRAhandle_tweets_1.csv</td>\n",
              "      <td>JUST IN: President Trump dedicates Presidents ...</td>\n",
              "    </tr>\n",
              "    <tr>\n",
              "      <th>4</th>\n",
              "      <td>10_GOP</td>\n",
              "      <td>19,000 RESPECTING our National Anthem! #StandF...</td>\n",
              "      <td>Unknown</td>\n",
              "      <td>English</td>\n",
              "      <td>10/1/2017 2:13</td>\n",
              "      <td>1050</td>\n",
              "      <td>9645</td>\n",
              "      <td>246</td>\n",
              "      <td>RETWEET</td>\n",
              "      <td>Right</td>\n",
              "      <td>1</td>\n",
              "      <td>RightTroll</td>\n",
              "      <td>905874659358453760</td>\n",
              "      <td>914312219952861184</td>\n",
              "      <td>http://twitter.com/905874659358453760/statuses...</td>\n",
              "      <td>IRAhandle_tweets_1.csv</td>\n",
              "      <td>19,000 RESPECTING our National Anthem! #StandF...</td>\n",
              "    </tr>\n",
              "  </tbody>\n",
              "</table>\n",
              "</div>\n",
              "      <button class=\"colab-df-convert\" onclick=\"convertToInteractive('df-f0d0df80-56bc-42b7-a363-c485396cb3c9')\"\n",
              "              title=\"Convert this dataframe to an interactive table.\"\n",
              "              style=\"display:none;\">\n",
              "        \n",
              "  <svg xmlns=\"http://www.w3.org/2000/svg\" height=\"24px\"viewBox=\"0 0 24 24\"\n",
              "       width=\"24px\">\n",
              "    <path d=\"M0 0h24v24H0V0z\" fill=\"none\"/>\n",
              "    <path d=\"M18.56 5.44l.94 2.06.94-2.06 2.06-.94-2.06-.94-.94-2.06-.94 2.06-2.06.94zm-11 1L8.5 8.5l.94-2.06 2.06-.94-2.06-.94L8.5 2.5l-.94 2.06-2.06.94zm10 10l.94 2.06.94-2.06 2.06-.94-2.06-.94-.94-2.06-.94 2.06-2.06.94z\"/><path d=\"M17.41 7.96l-1.37-1.37c-.4-.4-.92-.59-1.43-.59-.52 0-1.04.2-1.43.59L10.3 9.45l-7.72 7.72c-.78.78-.78 2.05 0 2.83L4 21.41c.39.39.9.59 1.41.59.51 0 1.02-.2 1.41-.59l7.78-7.78 2.81-2.81c.8-.78.8-2.07 0-2.86zM5.41 20L4 18.59l7.72-7.72 1.47 1.35L5.41 20z\"/>\n",
              "  </svg>\n",
              "      </button>\n",
              "      \n",
              "  <style>\n",
              "    .colab-df-container {\n",
              "      display:flex;\n",
              "      flex-wrap:wrap;\n",
              "      gap: 12px;\n",
              "    }\n",
              "\n",
              "    .colab-df-convert {\n",
              "      background-color: #E8F0FE;\n",
              "      border: none;\n",
              "      border-radius: 50%;\n",
              "      cursor: pointer;\n",
              "      display: none;\n",
              "      fill: #1967D2;\n",
              "      height: 32px;\n",
              "      padding: 0 0 0 0;\n",
              "      width: 32px;\n",
              "    }\n",
              "\n",
              "    .colab-df-convert:hover {\n",
              "      background-color: #E2EBFA;\n",
              "      box-shadow: 0px 1px 2px rgba(60, 64, 67, 0.3), 0px 1px 3px 1px rgba(60, 64, 67, 0.15);\n",
              "      fill: #174EA6;\n",
              "    }\n",
              "\n",
              "    [theme=dark] .colab-df-convert {\n",
              "      background-color: #3B4455;\n",
              "      fill: #D2E3FC;\n",
              "    }\n",
              "\n",
              "    [theme=dark] .colab-df-convert:hover {\n",
              "      background-color: #434B5C;\n",
              "      box-shadow: 0px 1px 3px 1px rgba(0, 0, 0, 0.15);\n",
              "      filter: drop-shadow(0px 1px 2px rgba(0, 0, 0, 0.3));\n",
              "      fill: #FFFFFF;\n",
              "    }\n",
              "  </style>\n",
              "\n",
              "      <script>\n",
              "        const buttonEl =\n",
              "          document.querySelector('#df-f0d0df80-56bc-42b7-a363-c485396cb3c9 button.colab-df-convert');\n",
              "        buttonEl.style.display =\n",
              "          google.colab.kernel.accessAllowed ? 'block' : 'none';\n",
              "\n",
              "        async function convertToInteractive(key) {\n",
              "          const element = document.querySelector('#df-f0d0df80-56bc-42b7-a363-c485396cb3c9');\n",
              "          const dataTable =\n",
              "            await google.colab.kernel.invokeFunction('convertToInteractive',\n",
              "                                                     [key], {});\n",
              "          if (!dataTable) return;\n",
              "\n",
              "          const docLinkHtml = 'Like what you see? Visit the ' +\n",
              "            '<a target=\"_blank\" href=https://colab.research.google.com/notebooks/data_table.ipynb>data table notebook</a>'\n",
              "            + ' to learn more about interactive tables.';\n",
              "          element.innerHTML = '';\n",
              "          dataTable['output_type'] = 'display_data';\n",
              "          await google.colab.output.renderOutput(dataTable, element);\n",
              "          const docLink = document.createElement('div');\n",
              "          docLink.innerHTML = docLinkHtml;\n",
              "          element.appendChild(docLink);\n",
              "        }\n",
              "      </script>\n",
              "    </div>\n",
              "  </div>\n",
              "  "
            ]
          },
          "metadata": {},
          "execution_count": 30
        }
      ]
    },
    {
      "cell_type": "code",
      "source": [
        "#format names\n",
        "tr_eng['account_type'].unique()"
      ],
      "metadata": {
        "colab": {
          "base_uri": "https://localhost:8080/"
        },
        "id": "LNwuI4e63Ox8",
        "outputId": "2fb1c0f4-1baa-4a3b-eedc-e9916670afd3"
      },
      "execution_count": 31,
      "outputs": [
        {
          "output_type": "execute_result",
          "data": {
            "text/plain": [
              "array(['Right', 'Koch', 'Italian', 'Russian', 'Left', 'Unknown', 'German',\n",
              "       'Hashtager', 'Arabic', 'local', 'Commercial', 'French', 'news',\n",
              "       'Ebola ', 'Portuguese', 'ZAPOROSHIA', 'Spanish'], dtype=object)"
            ]
          },
          "metadata": {},
          "execution_count": 31
        }
      ]
    },
    {
      "cell_type": "code",
      "source": [
        "#convert column values to lowercase:\n",
        "tr_eng_lwr = tr_eng['account_type'].map(lambda x: x.lower())"
      ],
      "metadata": {
        "id": "mYZVTkxA3gnx"
      },
      "execution_count": 32,
      "outputs": []
    },
    {
      "cell_type": "code",
      "source": [
        "tr_eng['account_type']=tr_eng_lwr\n",
        "tr_eng['account_type'].unique()\n",
        "# we will deal with this error message also~ arrrrgg"
      ],
      "metadata": {
        "colab": {
          "base_uri": "https://localhost:8080/"
        },
        "id": "f00OkgzD6jlf",
        "outputId": "65ef3405-f517-4287-820b-28a55543bdb1"
      },
      "execution_count": 33,
      "outputs": [
        {
          "output_type": "stream",
          "name": "stderr",
          "text": [
            "/usr/local/lib/python3.7/dist-packages/ipykernel_launcher.py:1: SettingWithCopyWarning: \n",
            "A value is trying to be set on a copy of a slice from a DataFrame.\n",
            "Try using .loc[row_indexer,col_indexer] = value instead\n",
            "\n",
            "See the caveats in the documentation: https://pandas.pydata.org/pandas-docs/stable/user_guide/indexing.html#returning-a-view-versus-a-copy\n",
            "  \"\"\"Entry point for launching an IPython kernel.\n"
          ]
        },
        {
          "output_type": "execute_result",
          "data": {
            "text/plain": [
              "array(['right', 'koch', 'italian', 'russian', 'left', 'unknown', 'german',\n",
              "       'hashtager', 'arabic', 'local', 'commercial', 'french', 'news',\n",
              "       'ebola ', 'portuguese', 'zaporoshia', 'spanish'], dtype=object)"
            ]
          },
          "metadata": {},
          "execution_count": 33
        }
      ]
    },
    {
      "cell_type": "markdown",
      "source": [
        "# Plotting to get general idea of further EDA"
      ],
      "metadata": {
        "id": "wtmdXmpY7WN3"
      }
    },
    {
      "cell_type": "code",
      "source": [
        "#import files and datetime formatting, json parsing\n",
        "import datetime\n",
        "\n",
        "pd.set_option('mode.chained_assignment', None)\n",
        "\n",
        "type(tr_eng['publish_date'][0]) # return string, need to format\n",
        "\n",
        "# Convert str to date/time with pandas.\n",
        "tr_eng['publish_date']=pd.to_datetime(tr_eng['publish_date'],\n",
        "                                      infer_datetime_format=True\n",
        "                                      )\n",
        "tr_eng.sort_values('publish_date',ascending=True)\n",
        "#change the timestamp to US dates\n",
        "tr_eng['publish_date_Only']=tr_eng['publish_date'].\\\n",
        "dt.strftime('%m/%d/%Y')\n",
        "\n",
        "#tr_eng.head()\n",
        "#tr_eng['publish_date'].dtype"
      ],
      "metadata": {
        "id": "SRZVcdXb7DEZ"
      },
      "execution_count": 34,
      "outputs": []
    },
    {
      "cell_type": "markdown",
      "source": [
        "#Let's Look at the spike\n",
        "\n",
        "* Only viewing the subsets English Only tweets"
      ],
      "metadata": {
        "id": "5OU9hEPI564T"
      }
    },
    {
      "cell_type": "code",
      "source": [
        "#get range to encapsulate before and after election 2016\n",
        "mask = (tr_eng['publish_date'] > '08/31/2016') &\\\n",
        "(tr_eng['publish_date'] <= '01/01/02017')\n",
        "\n",
        "tr_en_msk=tr_eng[mask].sort_values('publish_date')\n",
        "\n",
        "tr_en_msk['publish_date_Only']=pd.\\\n",
        "to_datetime(tr_en_msk['publish_date_Only'])"
      ],
      "metadata": {
        "id": "MczFasfz9NLw"
      },
      "execution_count": 35,
      "outputs": []
    },
    {
      "cell_type": "code",
      "source": [
        "plt.figure(figsize=(11,7))\n",
        "\n",
        "#Count the number of times a date appears and convert to dataframes\n",
        "tweet_trend = pd.DataFrame(tr_en_msk['publish_date_Only'].\\\n",
        "                           value_counts())\n",
        "\n",
        "# sort dates and get count by date:\n",
        "dd=pd.to_datetime(tr_en_msk['publish_date_Only']).\\\n",
        "value_counts().sort_index()\n",
        "\n",
        "plt.plot(dd)\n",
        "\n",
        "plt.xticks(rotation=45,ha='right')\n",
        "plt.title('English Tweets: Sept 2016 - Jan. 2017',fontsize=17)\n",
        "plt.xlabel('Date', fontsize = 14)\n",
        "plt.ylabel('Tweet Count', fontsize = 14)\n",
        "plt.grid(True)\n",
        "plt.show()"
      ],
      "metadata": {
        "colab": {
          "base_uri": "https://localhost:8080/",
          "height": 505
        },
        "id": "7VijzF_01oIr",
        "outputId": "24c3c9df-d236-460b-dcef-603b1b76993a"
      },
      "execution_count": 36,
      "outputs": [
        {
          "output_type": "display_data",
          "data": {
            "text/plain": [
              "<Figure size 792x504 with 1 Axes>"
            ],
            "image/png": "[encoded data removed]"
          },
          "metadata": {
            "needs_background": "light"
          }
        }
      ]
    },
    {
      "cell_type": "markdown",
      "source": [
        "# **Ok, What about the groups of trolls tweeted these** \n",
        "# **days?**\n",
        "\n",
        "* These are the subset English tweets only!"
      ],
      "metadata": {
        "id": "rHgrblEF7jMd"
      }
    },
    {
      "cell_type": "code",
      "source": [
        "oct_7=tr_eng[tr_eng['publish_date_Only']=='10/07/2016']\n",
        "\n",
        "plt.figure(figsize=(11,7))\n",
        "oct_7['account_category'].value_counts().plot()\n",
        "\n",
        "plt.grid(True)\n",
        "plt.title('October 07,2016 Account Category Tweets',size=15)\n",
        "plt.xlabel('Account Category',size=15)\n",
        "plt.ylabel('Tweeet Count',size=15)\n",
        "plt.show()"
      ],
      "metadata": {
        "colab": {
          "base_uri": "https://localhost:8080/",
          "height": 465
        },
        "id": "VMSqhtG_4Xlw",
        "outputId": "fa12dd22-97bf-4319-a6d2-3d43988541d3"
      },
      "execution_count": 37,
      "outputs": [
        {
          "output_type": "display_data",
          "data": {
            "text/plain": [
              "<Figure size 792x504 with 1 Axes>"
            ],
            "image/png": "[encoded data removed]"
          },
          "metadata": {
            "needs_background": "light"
          }
        }
      ]
    },
    {
      "cell_type": "markdown",
      "source": [
        "# Do some plot for Russians and compare:"
      ],
      "metadata": {
        "id": "vnJpcBNXNtPB"
      }
    },
    {
      "cell_type": "code",
      "source": [
        "#Due to complications with translating API's and Cost. We will not go with this approach\n",
        "#But, I will do a comparison for plotting of tweets during election time\n",
        "\n",
        "tr_russ = tweets_df[tweets_df['language']=='Russian']\n",
        "\n",
        "pd.set_option('mode.chained_assignment', None)\n",
        "\n",
        "tr_russ['publish_date']=pd.to_datetime(tr_russ['publish_date'],\n",
        "                                       infer_datetime_format=True)\n",
        "\n",
        "tr_russ.sort_values('publish_date',ascending=True)\n",
        "\n",
        "#change format to US date\n",
        "tr_russ['publish_date_Only']=tr_russ['publish_date'].\\\n",
        "dt.strftime('%m/%d/%Y')\n",
        "\n",
        "mask_russ = (tr_russ['publish_date'] > '08/31/2016') &\\\n",
        "(tr_russ['publish_date'] <= '01/01/2017')\n",
        "\n",
        "tr_russ_msk=tr_russ[mask_russ].sort_values('publish_date')\n",
        "\n",
        "tr_russ_msk['publish_date_Only']=pd.\\\n",
        "to_datetime(tr_russ_msk['publish_date_Only'])\n",
        "\n",
        "tr_russ_msk.head()"
      ],
      "metadata": {
        "colab": {
          "base_uri": "https://localhost:8080/",
          "height": 409
        },
        "id": "Rv6dI5JF94Jf",
        "outputId": "d4f9ab1c-d617-4ecf-c647-1e80e57e5573"
      },
      "execution_count": 38,
      "outputs": [
        {
          "output_type": "execute_result",
          "data": {
            "text/plain": [
              "                 author                                            content  \\\n",
              "255708   POLITICS_T0DAY                            https://t.co/GTWHGEp3sC   \n",
              "348544         RIAFANRU  Экс-президент Польши считает, что страна на гр...   \n",
              "2074371     INFOREACTOR  В Алеппо убит спикер ДАИШ  https://t.co/KLNGc4...   \n",
              "255735   POLITICS_T0DAY                            https://t.co/zFbi3tE2EQ   \n",
              "2074372     INFOREACTOR  Крис Браун угрожал пистолетом одной из своих г...   \n",
              "\n",
              "                region language        publish_date  following  followers  \\\n",
              "255708   United States  Russian 2016-08-31 00:10:00        110        994   \n",
              "348544         Belarus  Russian 2016-08-31 00:30:00       2902      11415   \n",
              "2074371  United States  Russian 2016-08-31 01:00:00       1549       7661   \n",
              "255735   United States  Russian 2016-08-31 01:10:00        110        994   \n",
              "2074372  United States  Russian 2016-08-31 01:20:00       1549       7661   \n",
              "\n",
              "         updates    post_type account_type  retweet account_category  \\\n",
              "255708     18546  Other_tweet      Russian        0       NonEnglish   \n",
              "348544     58453  Other_tweet      Russian        0       NonEnglish   \n",
              "2074371    17620  Other_tweet      Russian        0       NonEnglish   \n",
              "255735     18547  Other_tweet      Russian        0       NonEnglish   \n",
              "2074372    17621  Other_tweet      Russian        0       NonEnglish   \n",
              "\n",
              "        alt_external_id            tweet_id  \\\n",
              "255708       2260338140  770775638622044160   \n",
              "348544       2570574680  770780714707058690   \n",
              "2074371      3369109175  770788302014312453   \n",
              "255735       2260338140  770790748992180224   \n",
              "2074372      3369109175  770793314920624128   \n",
              "\n",
              "                                               article_url  \\\n",
              "255708   http://twitter.com/politics_t0day/statuses/770...   \n",
              "348544   http://twitter.com/riafanru/statuses/770780714...   \n",
              "2074371  http://twitter.com/inforeactor/statuses/770788...   \n",
              "255735   http://twitter.com/politics_t0day/statuses/770...   \n",
              "2074372  http://twitter.com/inforeactor/statuses/770793...   \n",
              "\n",
              "                       File_Name  \\\n",
              "255708   IRAhandle_tweets_10.csv   \n",
              "348544   IRAhandle_tweets_10.csv   \n",
              "2074371   IRAhandle_tweets_6.csv   \n",
              "255735   IRAhandle_tweets_10.csv   \n",
              "2074372   IRAhandle_tweets_6.csv   \n",
              "\n",
              "                                      content_without_http publish_date_Only  \n",
              "255708                                                            2016-08-31  \n",
              "348544   Экс-президент Польши считает, что страна на гр...        2016-08-31  \n",
              "2074371                        В Алеппо убит спикер ДАИШ          2016-08-31  \n",
              "255735                                                            2016-08-31  \n",
              "2074372  Крис Браун угрожал пистолетом одной из своих г...        2016-08-31  "
            ],
            "text/html": [
              "\n",
              "  <div id=\"df-ef2b49f7-0344-48f2-a350-37e9f91a5a3f\">\n",
              "    <div class=\"colab-df-container\">\n",
              "      <div>\n",
              "<style scoped>\n",
              "    .dataframe tbody tr th:only-of-type {\n",
              "        vertical-align: middle;\n",
              "    }\n",
              "\n",
              "    .dataframe tbody tr th {\n",
              "        vertical-align: top;\n",
              "    }\n",
              "\n",
              "    .dataframe thead th {\n",
              "        text-align: right;\n",
              "    }\n",
              "</style>\n",
              "<table border=\"1\" class=\"dataframe\">\n",
              "  <thead>\n",
              "    <tr style=\"text-align: right;\">\n",
              "      <th></th>\n",
              "      <th>author</th>\n",
              "      <th>content</th>\n",
              "      <th>region</th>\n",
              "      <th>language</th>\n",
              "      <th>publish_date</th>\n",
              "      <th>following</th>\n",
              "      <th>followers</th>\n",
              "      <th>updates</th>\n",
              "      <th>post_type</th>\n",
              "      <th>account_type</th>\n",
              "      <th>retweet</th>\n",
              "      <th>account_category</th>\n",
              "      <th>alt_external_id</th>\n",
              "      <th>tweet_id</th>\n",
              "      <th>article_url</th>\n",
              "      <th>File_Name</th>\n",
              "      <th>content_without_http</th>\n",
              "      <th>publish_date_Only</th>\n",
              "    </tr>\n",
              "  </thead>\n",
              "  <tbody>\n",
              "    <tr>\n",
              "      <th>255708</th>\n",
              "      <td>POLITICS_T0DAY</td>\n",
              "      <td>https://t.co/GTWHGEp3sC</td>\n",
              "      <td>United States</td>\n",
              "      <td>Russian</td>\n",
              "      <td>2016-08-31 00:10:00</td>\n",
              "      <td>110</td>\n",
              "      <td>994</td>\n",
              "      <td>18546</td>\n",
              "      <td>Other_tweet</td>\n",
              "      <td>Russian</td>\n",
              "      <td>0</td>\n",
              "      <td>NonEnglish</td>\n",
              "      <td>2260338140</td>\n",
              "      <td>770775638622044160</td>\n",
              "      <td>http://twitter.com/politics_t0day/statuses/770...</td>\n",
              "      <td>IRAhandle_tweets_10.csv</td>\n",
              "      <td></td>\n",
              "      <td>2016-08-31</td>\n",
              "    </tr>\n",
              "    <tr>\n",
              "      <th>348544</th>\n",
              "      <td>RIAFANRU</td>\n",
              "      <td>Экс-президент Польши считает, что страна на гр...</td>\n",
              "      <td>Belarus</td>\n",
              "      <td>Russian</td>\n",
              "      <td>2016-08-31 00:30:00</td>\n",
              "      <td>2902</td>\n",
              "      <td>11415</td>\n",
              "      <td>58453</td>\n",
              "      <td>Other_tweet</td>\n",
              "      <td>Russian</td>\n",
              "      <td>0</td>\n",
              "      <td>NonEnglish</td>\n",
              "      <td>2570574680</td>\n",
              "      <td>770780714707058690</td>\n",
              "      <td>http://twitter.com/riafanru/statuses/770780714...</td>\n",
              "      <td>IRAhandle_tweets_10.csv</td>\n",
              "      <td>Экс-президент Польши считает, что страна на гр...</td>\n",
              "      <td>2016-08-31</td>\n",
              "    </tr>\n",
              "    <tr>\n",
              "      <th>2074371</th>\n",
              "      <td>INFOREACTOR</td>\n",
              "      <td>В Алеппо убит спикер ДАИШ  https://t.co/KLNGc4...</td>\n",
              "      <td>United States</td>\n",
              "      <td>Russian</td>\n",
              "      <td>2016-08-31 01:00:00</td>\n",
              "      <td>1549</td>\n",
              "      <td>7661</td>\n",
              "      <td>17620</td>\n",
              "      <td>Other_tweet</td>\n",
              "      <td>Russian</td>\n",
              "      <td>0</td>\n",
              "      <td>NonEnglish</td>\n",
              "      <td>3369109175</td>\n",
              "      <td>770788302014312453</td>\n",
              "      <td>http://twitter.com/inforeactor/statuses/770788...</td>\n",
              "      <td>IRAhandle_tweets_6.csv</td>\n",
              "      <td>В Алеппо убит спикер ДАИШ</td>\n",
              "      <td>2016-08-31</td>\n",
              "    </tr>\n",
              "    <tr>\n",
              "      <th>255735</th>\n",
              "      <td>POLITICS_T0DAY</td>\n",
              "      <td>https://t.co/zFbi3tE2EQ</td>\n",
              "      <td>United States</td>\n",
              "      <td>Russian</td>\n",
              "      <td>2016-08-31 01:10:00</td>\n",
              "      <td>110</td>\n",
              "      <td>994</td>\n",
              "      <td>18547</td>\n",
              "      <td>Other_tweet</td>\n",
              "      <td>Russian</td>\n",
              "      <td>0</td>\n",
              "      <td>NonEnglish</td>\n",
              "      <td>2260338140</td>\n",
              "      <td>770790748992180224</td>\n",
              "      <td>http://twitter.com/politics_t0day/statuses/770...</td>\n",
              "      <td>IRAhandle_tweets_10.csv</td>\n",
              "      <td></td>\n",
              "      <td>2016-08-31</td>\n",
              "    </tr>\n",
              "    <tr>\n",
              "      <th>2074372</th>\n",
              "      <td>INFOREACTOR</td>\n",
              "      <td>Крис Браун угрожал пистолетом одной из своих г...</td>\n",
              "      <td>United States</td>\n",
              "      <td>Russian</td>\n",
              "      <td>2016-08-31 01:20:00</td>\n",
              "      <td>1549</td>\n",
              "      <td>7661</td>\n",
              "      <td>17621</td>\n",
              "      <td>Other_tweet</td>\n",
              "      <td>Russian</td>\n",
              "      <td>0</td>\n",
              "      <td>NonEnglish</td>\n",
              "      <td>3369109175</td>\n",
              "      <td>770793314920624128</td>\n",
              "      <td>http://twitter.com/inforeactor/statuses/770793...</td>\n",
              "      <td>IRAhandle_tweets_6.csv</td>\n",
              "      <td>Крис Браун угрожал пистолетом одной из своих г...</td>\n",
              "      <td>2016-08-31</td>\n",
              "    </tr>\n",
              "  </tbody>\n",
              "</table>\n",
              "</div>\n",
              "      <button class=\"colab-df-convert\" onclick=\"convertToInteractive('df-ef2b49f7-0344-48f2-a350-37e9f91a5a3f')\"\n",
              "              title=\"Convert this dataframe to an interactive table.\"\n",
              "              style=\"display:none;\">\n",
              "        \n",
              "  <svg xmlns=\"http://www.w3.org/2000/svg\" height=\"24px\"viewBox=\"0 0 24 24\"\n",
              "       width=\"24px\">\n",
              "    <path d=\"M0 0h24v24H0V0z\" fill=\"none\"/>\n",
              "    <path d=\"M18.56 5.44l.94 2.06.94-2.06 2.06-.94-2.06-.94-.94-2.06-.94 2.06-2.06.94zm-11 1L8.5 8.5l.94-2.06 2.06-.94-2.06-.94L8.5 2.5l-.94 2.06-2.06.94zm10 10l.94 2.06.94-2.06 2.06-.94-2.06-.94-.94-2.06-.94 2.06-2.06.94z\"/><path d=\"M17.41 7.96l-1.37-1.37c-.4-.4-.92-.59-1.43-.59-.52 0-1.04.2-1.43.59L10.3 9.45l-7.72 7.72c-.78.78-.78 2.05 0 2.83L4 21.41c.39.39.9.59 1.41.59.51 0 1.02-.2 1.41-.59l7.78-7.78 2.81-2.81c.8-.78.8-2.07 0-2.86zM5.41 20L4 18.59l7.72-7.72 1.47 1.35L5.41 20z\"/>\n",
              "  </svg>\n",
              "      </button>\n",
              "      \n",
              "  <style>\n",
              "    .colab-df-container {\n",
              "      display:flex;\n",
              "      flex-wrap:wrap;\n",
              "      gap: 12px;\n",
              "    }\n",
              "\n",
              "    .colab-df-convert {\n",
              "      background-color: #E8F0FE;\n",
              "      border: none;\n",
              "      border-radius: 50%;\n",
              "      cursor: pointer;\n",
              "      display: none;\n",
              "      fill: #1967D2;\n",
              "      height: 32px;\n",
              "      padding: 0 0 0 0;\n",
              "      width: 32px;\n",
              "    }\n",
              "\n",
              "    .colab-df-convert:hover {\n",
              "      background-color: #E2EBFA;\n",
              "      box-shadow: 0px 1px 2px rgba(60, 64, 67, 0.3), 0px 1px 3px 1px rgba(60, 64, 67, 0.15);\n",
              "      fill: #174EA6;\n",
              "    }\n",
              "\n",
              "    [theme=dark] .colab-df-convert {\n",
              "      background-color: #3B4455;\n",
              "      fill: #D2E3FC;\n",
              "    }\n",
              "\n",
              "    [theme=dark] .colab-df-convert:hover {\n",
              "      background-color: #434B5C;\n",
              "      box-shadow: 0px 1px 3px 1px rgba(0, 0, 0, 0.15);\n",
              "      filter: drop-shadow(0px 1px 2px rgba(0, 0, 0, 0.3));\n",
              "      fill: #FFFFFF;\n",
              "    }\n",
              "  </style>\n",
              "\n",
              "      <script>\n",
              "        const buttonEl =\n",
              "          document.querySelector('#df-ef2b49f7-0344-48f2-a350-37e9f91a5a3f button.colab-df-convert');\n",
              "        buttonEl.style.display =\n",
              "          google.colab.kernel.accessAllowed ? 'block' : 'none';\n",
              "\n",
              "        async function convertToInteractive(key) {\n",
              "          const element = document.querySelector('#df-ef2b49f7-0344-48f2-a350-37e9f91a5a3f');\n",
              "          const dataTable =\n",
              "            await google.colab.kernel.invokeFunction('convertToInteractive',\n",
              "                                                     [key], {});\n",
              "          if (!dataTable) return;\n",
              "\n",
              "          const docLinkHtml = 'Like what you see? Visit the ' +\n",
              "            '<a target=\"_blank\" href=https://colab.research.google.com/notebooks/data_table.ipynb>data table notebook</a>'\n",
              "            + ' to learn more about interactive tables.';\n",
              "          element.innerHTML = '';\n",
              "          dataTable['output_type'] = 'display_data';\n",
              "          await google.colab.output.renderOutput(dataTable, element);\n",
              "          const docLink = document.createElement('div');\n",
              "          docLink.innerHTML = docLinkHtml;\n",
              "          element.appendChild(docLink);\n",
              "        }\n",
              "      </script>\n",
              "    </div>\n",
              "  </div>\n",
              "  "
            ]
          },
          "metadata": {},
          "execution_count": 38
        }
      ]
    },
    {
      "cell_type": "code",
      "source": [
        "plt.figure(figsize=(11,7))\n",
        "\n",
        "#Count the number of times a date appears and convert to dataframes\n",
        "tweet_trend = pd.DataFrame(tr_russ_msk['publish_date_Only'].\\\n",
        "                           value_counts())\n",
        "\n",
        "# sort dates and get count by date:\n",
        "dd_russ=pd.to_datetime(tr_russ_msk['publish_date_Only']).\\\n",
        "value_counts().sort_index()\n",
        "\n",
        "plt.plot(dd_russ)\n",
        "\n",
        "plt.xticks(rotation=45,ha='right')\n",
        "plt.title('Russian Tweets: Sept 2016 - Jan. 2017',fontsize=17)\n",
        "plt.xlabel('Date', fontsize = 14)\n",
        "plt.ylabel('Tweet Count', fontsize = 14)\n",
        "plt.grid(True)\n",
        "plt.show()"
      ],
      "metadata": {
        "colab": {
          "base_uri": "https://localhost:8080/",
          "height": 505
        },
        "id": "b2kX4-JqRd8K",
        "outputId": "6b5f9509-dd50-49e2-cba0-e0fa3fd6eb82"
      },
      "execution_count": 39,
      "outputs": [
        {
          "output_type": "display_data",
          "data": {
            "text/plain": [
              "<Figure size 792x504 with 1 Axes>"
            ],
            "image/png": "[encoded data removed]"
          },
          "metadata": {
            "needs_background": "light"
          }
        }
      ]
    },
    {
      "cell_type": "code",
      "source": [
        "#let's zoom in on Oct 3-11 2016 Russian Tweets:\n",
        "\n",
        "mask_russ_sub = (tr_russ['publish_date'] > '10/02/2016') &\\\n",
        "(tr_russ['publish_date'] <= '10/11/2016')\n",
        "\n",
        "tr_russ_msk_sub=tr_russ[mask_russ_sub].sort_values('publish_date')\n",
        "\n",
        "tr_russ_msk_sub['publish_date_Only']=pd.\\\n",
        "to_datetime(tr_russ_msk_sub['publish_date_Only'])\n",
        "\n",
        "plt.figure(figsize=(11,7))\n",
        "\n",
        "#sort dates and get count by date:\n",
        "dd_russ_sub=pd.to_datetime(tr_russ_msk_sub['publish_date_Only']).\\\n",
        "value_counts().sort_index()\n",
        "\n",
        "plt.plot(dd_russ_sub)\n",
        "plt.xticks(rotation=45,ha=\"right\")\n",
        "plt.title('Russian Tweets: Oct 3,2016 - Oct. 11,2016',fontsize=17)\n",
        "plt.xlabel('Date', fontsize = 14)\n",
        "plt.ylabel('Tweet Count', fontsize = 14)\n",
        "plt.grid(True)\n",
        "plt.show()"
      ],
      "metadata": {
        "colab": {
          "base_uri": "https://localhost:8080/",
          "height": 505
        },
        "id": "rsAknwK0R0ge",
        "outputId": "a9cf0a3b-dcc8-47cb-adb3-88cc45f86bf2"
      },
      "execution_count": 40,
      "outputs": [
        {
          "output_type": "display_data",
          "data": {
            "text/plain": [
              "<Figure size 792x504 with 1 Axes>"
            ],
            "image/png": "[encoded data removed]"
          },
          "metadata": {
            "needs_background": "light"
          }
        }
      ]
    },
    {
      "cell_type": "markdown",
      "source": [
        "# **Plot All Data: account category by (follower vs following)**"
      ],
      "metadata": {
        "id": "fzMJ4tsPbbuf"
      }
    },
    {
      "cell_type": "code",
      "source": [
        "plt.figure(figsize=(16,8))\n",
        "ax = sns.scatterplot(x=\"followers\", y=\"following\",\n",
        "                     hue=\"account_category\",data=tr_eng)\n",
        "plt.title('Follower and following Counts by Account Category',\n",
        "          fontsize = 15)\n",
        "plt.xlabel(\"Number of Followers\", fontsize=13)\n",
        "plt.ylabel(\"Number of Following\", fontsize=13)\n",
        "plt.legend(loc='best')"
      ],
      "metadata": {
        "colab": {
          "base_uri": "https://localhost:8080/",
          "height": 536
        },
        "id": "yrV9wxx-ZFRX",
        "outputId": "4dc63679-78c4-4f52-9682-f969008cf3a2"
      },
      "execution_count": 45,
      "outputs": [
        {
          "output_type": "execute_result",
          "data": {
            "text/plain": [
              "<matplotlib.legend.Legend at 0x7f75a95b79d0>"
            ]
          },
          "metadata": {},
          "execution_count": 45
        },
        {
          "output_type": "display_data",
          "data": {
            "text/plain": [
              "<Figure size 1152x576 with 1 Axes>"
            ],
            "image/png": "[encoded data removed]"
          },
          "metadata": {
            "needs_background": "light"
          }
        }
      ]
    },
    {
      "cell_type": "markdown",
      "source": [
        "# **Evaluate top 10 users over time**"
      ],
      "metadata": {
        "id": "TS30b9MWg5qC"
      }
    },
    {
      "cell_type": "code",
      "source": [
        "tr_en_msk['author'].value_counts()[:10].index"
      ],
      "metadata": {
        "colab": {
          "base_uri": "https://localhost:8080/"
        },
        "id": "chv9yGj6f80b",
        "outputId": "a819f5ad-2649-4878-846d-f148d78b043b"
      },
      "execution_count": 42,
      "outputs": [
        {
          "output_type": "execute_result",
          "data": {
            "text/plain": [
              "Index(['AMELIEBALDWIN', 'HYDDROX', 'WORLDOFHASHTAGS', 'CHRIXMORGAN',\n",
              "       'KANSASDAILYNEWS', 'CHICAGODAILYNEW', 'WORLDNEWSPOLI', 'SCREAMYMONKEY',\n",
              "       'JAVONHIDP', 'BRIANAREGLAND'],\n",
              "      dtype='object')"
            ]
          },
          "metadata": {},
          "execution_count": 42
        }
      ]
    },
    {
      "cell_type": "code",
      "source": [
        "top_ten_auth_dtrng=list(tr_en_msk['author'].value_counts()[:10].index)\n",
        "\n",
        "sub_en_auth=tr_en_msk.loc[:,[\n",
        "    'author','publish_date_Only',\n",
        "    'followers','following'\n",
        "]]\n",
        "top10_author_by_dte=sub_en_auth[sub_en_auth['author'].\\\n",
        "                                isin(top_ten_auth_dtrng)]\n",
        "\n",
        "mi=top10_author_by_dte.sort_values(['publish_date_Only','author']).\\\n",
        "groupby(['publish_date_Only','author']).max()\n",
        "mi"
      ],
      "metadata": {
        "colab": {
          "base_uri": "https://localhost:8080/",
          "height": 455
        },
        "id": "QqsLoxuuhWWw",
        "outputId": "063f4a10-bd99-4927-fb10-587613857163"
      },
      "execution_count": 43,
      "outputs": [
        {
          "output_type": "execute_result",
          "data": {
            "text/plain": [
              "                                   followers  following\n",
              "publish_date_Only author                               \n",
              "2016-08-31        BRIANAREGLAND          746        658\n",
              "                  CHICAGODAILYNEW      19510      10039\n",
              "                  CHRIXMORGAN          17350      11727\n",
              "                  JAVONHIDP              836        718\n",
              "                  KANSASDAILYNEWS      25413       7498\n",
              "...                                      ...        ...\n",
              "2016-12-31        HYDDROX               2271       2591\n",
              "                  JAVONHIDP              826        450\n",
              "                  KANSASDAILYNEWS      25320       4269\n",
              "                  WORLDNEWSPOLI         3058       3322\n",
              "2017-01-01        WORLDNEWSPOLI         3061       3321\n",
              "\n",
              "[887 rows x 2 columns]"
            ],
            "text/html": [
              "\n",
              "  <div id=\"df-b89a5c28-4701-4981-a4c3-c8e1e80f2ff8\">\n",
              "    <div class=\"colab-df-container\">\n",
              "      <div>\n",
              "<style scoped>\n",
              "    .dataframe tbody tr th:only-of-type {\n",
              "        vertical-align: middle;\n",
              "    }\n",
              "\n",
              "    .dataframe tbody tr th {\n",
              "        vertical-align: top;\n",
              "    }\n",
              "\n",
              "    .dataframe thead th {\n",
              "        text-align: right;\n",
              "    }\n",
              "</style>\n",
              "<table border=\"1\" class=\"dataframe\">\n",
              "  <thead>\n",
              "    <tr style=\"text-align: right;\">\n",
              "      <th></th>\n",
              "      <th></th>\n",
              "      <th>followers</th>\n",
              "      <th>following</th>\n",
              "    </tr>\n",
              "    <tr>\n",
              "      <th>publish_date_Only</th>\n",
              "      <th>author</th>\n",
              "      <th></th>\n",
              "      <th></th>\n",
              "    </tr>\n",
              "  </thead>\n",
              "  <tbody>\n",
              "    <tr>\n",
              "      <th rowspan=\"5\" valign=\"top\">2016-08-31</th>\n",
              "      <th>BRIANAREGLAND</th>\n",
              "      <td>746</td>\n",
              "      <td>658</td>\n",
              "    </tr>\n",
              "    <tr>\n",
              "      <th>CHICAGODAILYNEW</th>\n",
              "      <td>19510</td>\n",
              "      <td>10039</td>\n",
              "    </tr>\n",
              "    <tr>\n",
              "      <th>CHRIXMORGAN</th>\n",
              "      <td>17350</td>\n",
              "      <td>11727</td>\n",
              "    </tr>\n",
              "    <tr>\n",
              "      <th>JAVONHIDP</th>\n",
              "      <td>836</td>\n",
              "      <td>718</td>\n",
              "    </tr>\n",
              "    <tr>\n",
              "      <th>KANSASDAILYNEWS</th>\n",
              "      <td>25413</td>\n",
              "      <td>7498</td>\n",
              "    </tr>\n",
              "    <tr>\n",
              "      <th>...</th>\n",
              "      <th>...</th>\n",
              "      <td>...</td>\n",
              "      <td>...</td>\n",
              "    </tr>\n",
              "    <tr>\n",
              "      <th rowspan=\"4\" valign=\"top\">2016-12-31</th>\n",
              "      <th>HYDDROX</th>\n",
              "      <td>2271</td>\n",
              "      <td>2591</td>\n",
              "    </tr>\n",
              "    <tr>\n",
              "      <th>JAVONHIDP</th>\n",
              "      <td>826</td>\n",
              "      <td>450</td>\n",
              "    </tr>\n",
              "    <tr>\n",
              "      <th>KANSASDAILYNEWS</th>\n",
              "      <td>25320</td>\n",
              "      <td>4269</td>\n",
              "    </tr>\n",
              "    <tr>\n",
              "      <th>WORLDNEWSPOLI</th>\n",
              "      <td>3058</td>\n",
              "      <td>3322</td>\n",
              "    </tr>\n",
              "    <tr>\n",
              "      <th>2017-01-01</th>\n",
              "      <th>WORLDNEWSPOLI</th>\n",
              "      <td>3061</td>\n",
              "      <td>3321</td>\n",
              "    </tr>\n",
              "  </tbody>\n",
              "</table>\n",
              "<p>887 rows × 2 columns</p>\n",
              "</div>\n",
              "      <button class=\"colab-df-convert\" onclick=\"convertToInteractive('df-b89a5c28-4701-4981-a4c3-c8e1e80f2ff8')\"\n",
              "              title=\"Convert this dataframe to an interactive table.\"\n",
              "              style=\"display:none;\">\n",
              "        \n",
              "  <svg xmlns=\"http://www.w3.org/2000/svg\" height=\"24px\"viewBox=\"0 0 24 24\"\n",
              "       width=\"24px\">\n",
              "    <path d=\"M0 0h24v24H0V0z\" fill=\"none\"/>\n",
              "    <path d=\"M18.56 5.44l.94 2.06.94-2.06 2.06-.94-2.06-.94-.94-2.06-.94 2.06-2.06.94zm-11 1L8.5 8.5l.94-2.06 2.06-.94-2.06-.94L8.5 2.5l-.94 2.06-2.06.94zm10 10l.94 2.06.94-2.06 2.06-.94-2.06-.94-.94-2.06-.94 2.06-2.06.94z\"/><path d=\"M17.41 7.96l-1.37-1.37c-.4-.4-.92-.59-1.43-.59-.52 0-1.04.2-1.43.59L10.3 9.45l-7.72 7.72c-.78.78-.78 2.05 0 2.83L4 21.41c.39.39.9.59 1.41.59.51 0 1.02-.2 1.41-.59l7.78-7.78 2.81-2.81c.8-.78.8-2.07 0-2.86zM5.41 20L4 18.59l7.72-7.72 1.47 1.35L5.41 20z\"/>\n",
              "  </svg>\n",
              "      </button>\n",
              "      \n",
              "  <style>\n",
              "    .colab-df-container {\n",
              "      display:flex;\n",
              "      flex-wrap:wrap;\n",
              "      gap: 12px;\n",
              "    }\n",
              "\n",
              "    .colab-df-convert {\n",
              "      background-color: #E8F0FE;\n",
              "      border: none;\n",
              "      border-radius: 50%;\n",
              "      cursor: pointer;\n",
              "      display: none;\n",
              "      fill: #1967D2;\n",
              "      height: 32px;\n",
              "      padding: 0 0 0 0;\n",
              "      width: 32px;\n",
              "    }\n",
              "\n",
              "    .colab-df-convert:hover {\n",
              "      background-color: #E2EBFA;\n",
              "      box-shadow: 0px 1px 2px rgba(60, 64, 67, 0.3), 0px 1px 3px 1px rgba(60, 64, 67, 0.15);\n",
              "      fill: #174EA6;\n",
              "    }\n",
              "\n",
              "    [theme=dark] .colab-df-convert {\n",
              "      background-color: #3B4455;\n",
              "      fill: #D2E3FC;\n",
              "    }\n",
              "\n",
              "    [theme=dark] .colab-df-convert:hover {\n",
              "      background-color: #434B5C;\n",
              "      box-shadow: 0px 1px 3px 1px rgba(0, 0, 0, 0.15);\n",
              "      filter: drop-shadow(0px 1px 2px rgba(0, 0, 0, 0.3));\n",
              "      fill: #FFFFFF;\n",
              "    }\n",
              "  </style>\n",
              "\n",
              "      <script>\n",
              "        const buttonEl =\n",
              "          document.querySelector('#df-b89a5c28-4701-4981-a4c3-c8e1e80f2ff8 button.colab-df-convert');\n",
              "        buttonEl.style.display =\n",
              "          google.colab.kernel.accessAllowed ? 'block' : 'none';\n",
              "\n",
              "        async function convertToInteractive(key) {\n",
              "          const element = document.querySelector('#df-b89a5c28-4701-4981-a4c3-c8e1e80f2ff8');\n",
              "          const dataTable =\n",
              "            await google.colab.kernel.invokeFunction('convertToInteractive',\n",
              "                                                     [key], {});\n",
              "          if (!dataTable) return;\n",
              "\n",
              "          const docLinkHtml = 'Like what you see? Visit the ' +\n",
              "            '<a target=\"_blank\" href=https://colab.research.google.com/notebooks/data_table.ipynb>data table notebook</a>'\n",
              "            + ' to learn more about interactive tables.';\n",
              "          element.innerHTML = '';\n",
              "          dataTable['output_type'] = 'display_data';\n",
              "          await google.colab.output.renderOutput(dataTable, element);\n",
              "          const docLink = document.createElement('div');\n",
              "          docLink.innerHTML = docLinkHtml;\n",
              "          element.appendChild(docLink);\n",
              "        }\n",
              "      </script>\n",
              "    </div>\n",
              "  </div>\n",
              "  "
            ]
          },
          "metadata": {},
          "execution_count": 43
        }
      ]
    },
    {
      "cell_type": "code",
      "source": [
        "f=pd.DataFrame(list(mi.index),columns=[\"date\",\"author\"])\n",
        "\n",
        "followers=pd.DataFrame(list(mi['followers']),\n",
        "                       columns=['followers'])\n",
        "\n",
        "following=pd.DataFrame(list(mi['following']),\n",
        "                       columns=['following'])\n",
        "\n",
        "pp=pd.concat([f,followers,following],axis=1).\\\n",
        "sort_values(['author','date'])\n",
        "\n",
        "plt.figure(figsize=(16,9))\n",
        "\n",
        "sns.lineplot(data=pp, x='date', y='followers',hue='author')\n",
        "\n",
        "#Put the legend out of the figure\n",
        "plt.legend(bbox_to_anchor=(1.05,1), loc=2, borderaxespad=0.)\n",
        "plt.xlabel('Date',size=20)\n",
        "plt.ylabel('Followers Count',size=20)\n",
        "plt.yticks(size=15)\n",
        "plt.xticks(size=14,rotation=30,ha='right')\n",
        "plt.yticks(size=14)\n",
        "\n",
        "plt.show()"
      ],
      "metadata": {
        "colab": {
          "base_uri": "https://localhost:8080/",
          "height": 603
        },
        "id": "gNvJE1sOjGyL",
        "outputId": "6e73a461-ab60-4bd8-c921-c5591d9b2fb1"
      },
      "execution_count": 44,
      "outputs": [
        {
          "output_type": "display_data",
          "data": {
            "text/plain": [
              "<Figure size 1152x648 with 1 Axes>"
            ],
            "image/png": "[encoded data removed]"
          },
          "metadata": {
            "needs_background": "light"
          }
        }
      ]
    },
    {
      "cell_type": "code",
      "source": [
        "plt.figure(figsize=(16,9))\n",
        "sns.lineplot(data=pp, x='date', y='following', hue='author')\n",
        "\n",
        "#Put the legend out of the figure\n",
        "plt.legend(bbox_to_anchor=(1.05, 1), loc=2, borderaxespad=0.)\n",
        "\n",
        "plt.title('Top 10 Users By Following Count',size=20)\n",
        "plt.xlabel('Date',size=20)\n",
        "plt.ylabel('Following Count',size=20)\n",
        "plt.yticks(size=15)\n",
        "plt.xticks(size=14,rotation=30,ha='right')\n",
        "plt.yticks(size=14)\n",
        "\n",
        "plt.show()"
      ],
      "metadata": {
        "colab": {
          "base_uri": "https://localhost:8080/",
          "height": 624
        },
        "id": "SPODqaonm4Pm",
        "outputId": "76ab037a-e7f7-4244-a7d4-4f5345af0e65"
      },
      "execution_count": 56,
      "outputs": [
        {
          "output_type": "display_data",
          "data": {
            "text/plain": [
              "<Figure size 1152x648 with 1 Axes>"
            ],
            "image/png": "[encoded data removed]"
          },
          "metadata": {
            "needs_background": "light"
          }
        }
      ]
    },
    {
      "cell_type": "code",
      "source": [
        "# Notice the double @ symbols for 2 reference.\n",
        "tweets_df.loc[7,'content_without_http']"
      ],
      "metadata": {
        "colab": {
          "base_uri": "https://localhost:8080/",
          "height": 36
        },
        "id": "w6slvgg6omni",
        "outputId": "3faf21a8-88d8-4888-c177-354168123f1c"
      },
      "execution_count": 58,
      "outputs": [
        {
          "output_type": "execute_result",
          "data": {
            "text/plain": [
              "'@SenatorMenendez @CarmenYulinCruz Doesnt matter that CNN doesnt report on your crimes. This wont change the fact that youre going down.'"
            ],
            "application/vnd.google.colaboratory.intrinsic+json": {
              "type": "string"
            }
          },
          "metadata": {},
          "execution_count": 58
        }
      ]
    },
    {
      "cell_type": "markdown",
      "source": [
        "# **Create Hashtags and Retweet columns:**\n",
        "\n",
        "We have some simple solutions but there are issues: This works but provides us with only first occurence **tweets_df** **['content_without_http'].str.extract**\n",
        "**(r'@(\\S+)')**\n",
        "\n",
        "If we need to find more: use **extractall()** unfortunately it returns multi-index table and difficult to use.\n",
        "\n",
        "Therefore,I used a loop to deal with this.Unless,you have a good work around beware of limitations as well as your options"
      ],
      "metadata": {
        "id": "b8LLp3a0p4xz"
      }
    },
    {
      "cell_type": "code",
      "source": [
        "tweets_df=tweets_df.drop(['content'],axis=1)\n",
        "tweets_df.tail()"
      ],
      "metadata": {
        "colab": {
          "base_uri": "https://localhost:8080/",
          "height": 444
        },
        "id": "hB1fbHVUar1L",
        "outputId": "f64fedde-8a06-4a93-c32e-b995bd683af0"
      },
      "execution_count": 48,
      "outputs": [
        {
          "output_type": "execute_result",
          "data": {
            "text/plain": [
              "                 author         region language     publish_date  following  \\\n",
              "2946202  POLITICS_T0DAY  United States  Russian  2/16/2016 22:20         92   \n",
              "2946203  POLITICS_T0DAY  United States  Russian  2/16/2016 22:25         92   \n",
              "2946204  POLITICS_T0DAY  United States  Russian  2/16/2016 22:31         92   \n",
              "2946205  POLITICS_T0DAY  United States  Russian  2/16/2016 22:35         92   \n",
              "2946206  POLITICS_T0DAY  United States  Russian  2/16/2016 22:40         92   \n",
              "\n",
              "         followers  updates    post_type account_type  retweet  \\\n",
              "2946202        887    12934  Other_tweet      Russian        0   \n",
              "2946203        887    12935  Other_tweet      Russian        0   \n",
              "2946204        887    12936  Other_tweet      Russian        0   \n",
              "2946205        887    12937  Other_tweet      Russian        0   \n",
              "2946206        887    12938  Other_tweet      Russian        0   \n",
              "\n",
              "        account_category alt_external_id            tweet_id  \\\n",
              "2946202       NonEnglish      2260338140  699720021396869121   \n",
              "2946203       NonEnglish      2260338140  699721241553432576   \n",
              "2946204       NonEnglish      2260338140  699722743533674496   \n",
              "2946205       NonEnglish      2260338140  699723798849916928   \n",
              "2946206       NonEnglish      2260338140  699725139705987072   \n",
              "\n",
              "                                               article_url  \\\n",
              "2946202  http://twitter.com/politics_t0day/statuses/699...   \n",
              "2946203  http://twitter.com/politics_t0day/statuses/699...   \n",
              "2946204  http://twitter.com/politics_t0day/statuses/699...   \n",
              "2946205  http://twitter.com/politics_t0day/statuses/699...   \n",
              "2946206  http://twitter.com/politics_t0day/statuses/699...   \n",
              "\n",
              "                      File_Name  \\\n",
              "2946202  IRAhandle_tweets_9.csv   \n",
              "2946203  IRAhandle_tweets_9.csv   \n",
              "2946204  IRAhandle_tweets_9.csv   \n",
              "2946205  IRAhandle_tweets_9.csv   \n",
              "2946206  IRAhandle_tweets_9.csv   \n",
              "\n",
              "                                      content_without_http  \n",
              "2946202  Порошенко призвал к полной перезагрузке правит...  \n",
              "2946203  Турецкая атомная бомба появится в 2023 году.  ...  \n",
              "2946204  История одной татуировки.  Тату на предплечье:...  \n",
              "2946205  Индонезия, Китай, золото и isis #Эксклюзив@pol...  \n",
              "2946206  На популярном видеохостинге YouTube опубликова...  "
            ],
            "text/html": [
              "\n",
              "  <div id=\"df-565a8e71-9003-44e3-8272-aa670e46ccdf\">\n",
              "    <div class=\"colab-df-container\">\n",
              "      <div>\n",
              "<style scoped>\n",
              "    .dataframe tbody tr th:only-of-type {\n",
              "        vertical-align: middle;\n",
              "    }\n",
              "\n",
              "    .dataframe tbody tr th {\n",
              "        vertical-align: top;\n",
              "    }\n",
              "\n",
              "    .dataframe thead th {\n",
              "        text-align: right;\n",
              "    }\n",
              "</style>\n",
              "<table border=\"1\" class=\"dataframe\">\n",
              "  <thead>\n",
              "    <tr style=\"text-align: right;\">\n",
              "      <th></th>\n",
              "      <th>author</th>\n",
              "      <th>region</th>\n",
              "      <th>language</th>\n",
              "      <th>publish_date</th>\n",
              "      <th>following</th>\n",
              "      <th>followers</th>\n",
              "      <th>updates</th>\n",
              "      <th>post_type</th>\n",
              "      <th>account_type</th>\n",
              "      <th>retweet</th>\n",
              "      <th>account_category</th>\n",
              "      <th>alt_external_id</th>\n",
              "      <th>tweet_id</th>\n",
              "      <th>article_url</th>\n",
              "      <th>File_Name</th>\n",
              "      <th>content_without_http</th>\n",
              "    </tr>\n",
              "  </thead>\n",
              "  <tbody>\n",
              "    <tr>\n",
              "      <th>2946202</th>\n",
              "      <td>POLITICS_T0DAY</td>\n",
              "      <td>United States</td>\n",
              "      <td>Russian</td>\n",
              "      <td>2/16/2016 22:20</td>\n",
              "      <td>92</td>\n",
              "      <td>887</td>\n",
              "      <td>12934</td>\n",
              "      <td>Other_tweet</td>\n",
              "      <td>Russian</td>\n",
              "      <td>0</td>\n",
              "      <td>NonEnglish</td>\n",
              "      <td>2260338140</td>\n",
              "      <td>699720021396869121</td>\n",
              "      <td>http://twitter.com/politics_t0day/statuses/699...</td>\n",
              "      <td>IRAhandle_tweets_9.csv</td>\n",
              "      <td>Порошенко призвал к полной перезагрузке правит...</td>\n",
              "    </tr>\n",
              "    <tr>\n",
              "      <th>2946203</th>\n",
              "      <td>POLITICS_T0DAY</td>\n",
              "      <td>United States</td>\n",
              "      <td>Russian</td>\n",
              "      <td>2/16/2016 22:25</td>\n",
              "      <td>92</td>\n",
              "      <td>887</td>\n",
              "      <td>12935</td>\n",
              "      <td>Other_tweet</td>\n",
              "      <td>Russian</td>\n",
              "      <td>0</td>\n",
              "      <td>NonEnglish</td>\n",
              "      <td>2260338140</td>\n",
              "      <td>699721241553432576</td>\n",
              "      <td>http://twitter.com/politics_t0day/statuses/699...</td>\n",
              "      <td>IRAhandle_tweets_9.csv</td>\n",
              "      <td>Турецкая атомная бомба появится в 2023 году.  ...</td>\n",
              "    </tr>\n",
              "    <tr>\n",
              "      <th>2946204</th>\n",
              "      <td>POLITICS_T0DAY</td>\n",
              "      <td>United States</td>\n",
              "      <td>Russian</td>\n",
              "      <td>2/16/2016 22:31</td>\n",
              "      <td>92</td>\n",
              "      <td>887</td>\n",
              "      <td>12936</td>\n",
              "      <td>Other_tweet</td>\n",
              "      <td>Russian</td>\n",
              "      <td>0</td>\n",
              "      <td>NonEnglish</td>\n",
              "      <td>2260338140</td>\n",
              "      <td>699722743533674496</td>\n",
              "      <td>http://twitter.com/politics_t0day/statuses/699...</td>\n",
              "      <td>IRAhandle_tweets_9.csv</td>\n",
              "      <td>История одной татуировки.  Тату на предплечье:...</td>\n",
              "    </tr>\n",
              "    <tr>\n",
              "      <th>2946205</th>\n",
              "      <td>POLITICS_T0DAY</td>\n",
              "      <td>United States</td>\n",
              "      <td>Russian</td>\n",
              "      <td>2/16/2016 22:35</td>\n",
              "      <td>92</td>\n",
              "      <td>887</td>\n",
              "      <td>12937</td>\n",
              "      <td>Other_tweet</td>\n",
              "      <td>Russian</td>\n",
              "      <td>0</td>\n",
              "      <td>NonEnglish</td>\n",
              "      <td>2260338140</td>\n",
              "      <td>699723798849916928</td>\n",
              "      <td>http://twitter.com/politics_t0day/statuses/699...</td>\n",
              "      <td>IRAhandle_tweets_9.csv</td>\n",
              "      <td>Индонезия, Китай, золото и isis #Эксклюзив@pol...</td>\n",
              "    </tr>\n",
              "    <tr>\n",
              "      <th>2946206</th>\n",
              "      <td>POLITICS_T0DAY</td>\n",
              "      <td>United States</td>\n",
              "      <td>Russian</td>\n",
              "      <td>2/16/2016 22:40</td>\n",
              "      <td>92</td>\n",
              "      <td>887</td>\n",
              "      <td>12938</td>\n",
              "      <td>Other_tweet</td>\n",
              "      <td>Russian</td>\n",
              "      <td>0</td>\n",
              "      <td>NonEnglish</td>\n",
              "      <td>2260338140</td>\n",
              "      <td>699725139705987072</td>\n",
              "      <td>http://twitter.com/politics_t0day/statuses/699...</td>\n",
              "      <td>IRAhandle_tweets_9.csv</td>\n",
              "      <td>На популярном видеохостинге YouTube опубликова...</td>\n",
              "    </tr>\n",
              "  </tbody>\n",
              "</table>\n",
              "</div>\n",
              "      <button class=\"colab-df-convert\" onclick=\"convertToInteractive('df-565a8e71-9003-44e3-8272-aa670e46ccdf')\"\n",
              "              title=\"Convert this dataframe to an interactive table.\"\n",
              "              style=\"display:none;\">\n",
              "        \n",
              "  <svg xmlns=\"http://www.w3.org/2000/svg\" height=\"24px\"viewBox=\"0 0 24 24\"\n",
              "       width=\"24px\">\n",
              "    <path d=\"M0 0h24v24H0V0z\" fill=\"none\"/>\n",
              "    <path d=\"M18.56 5.44l.94 2.06.94-2.06 2.06-.94-2.06-.94-.94-2.06-.94 2.06-2.06.94zm-11 1L8.5 8.5l.94-2.06 2.06-.94-2.06-.94L8.5 2.5l-.94 2.06-2.06.94zm10 10l.94 2.06.94-2.06 2.06-.94-2.06-.94-.94-2.06-.94 2.06-2.06.94z\"/><path d=\"M17.41 7.96l-1.37-1.37c-.4-.4-.92-.59-1.43-.59-.52 0-1.04.2-1.43.59L10.3 9.45l-7.72 7.72c-.78.78-.78 2.05 0 2.83L4 21.41c.39.39.9.59 1.41.59.51 0 1.02-.2 1.41-.59l7.78-7.78 2.81-2.81c.8-.78.8-2.07 0-2.86zM5.41 20L4 18.59l7.72-7.72 1.47 1.35L5.41 20z\"/>\n",
              "  </svg>\n",
              "      </button>\n",
              "      \n",
              "  <style>\n",
              "    .colab-df-container {\n",
              "      display:flex;\n",
              "      flex-wrap:wrap;\n",
              "      gap: 12px;\n",
              "    }\n",
              "\n",
              "    .colab-df-convert {\n",
              "      background-color: #E8F0FE;\n",
              "      border: none;\n",
              "      border-radius: 50%;\n",
              "      cursor: pointer;\n",
              "      display: none;\n",
              "      fill: #1967D2;\n",
              "      height: 32px;\n",
              "      padding: 0 0 0 0;\n",
              "      width: 32px;\n",
              "    }\n",
              "\n",
              "    .colab-df-convert:hover {\n",
              "      background-color: #E2EBFA;\n",
              "      box-shadow: 0px 1px 2px rgba(60, 64, 67, 0.3), 0px 1px 3px 1px rgba(60, 64, 67, 0.15);\n",
              "      fill: #174EA6;\n",
              "    }\n",
              "\n",
              "    [theme=dark] .colab-df-convert {\n",
              "      background-color: #3B4455;\n",
              "      fill: #D2E3FC;\n",
              "    }\n",
              "\n",
              "    [theme=dark] .colab-df-convert:hover {\n",
              "      background-color: #434B5C;\n",
              "      box-shadow: 0px 1px 3px 1px rgba(0, 0, 0, 0.15);\n",
              "      filter: drop-shadow(0px 1px 2px rgba(0, 0, 0, 0.3));\n",
              "      fill: #FFFFFF;\n",
              "    }\n",
              "  </style>\n",
              "\n",
              "      <script>\n",
              "        const buttonEl =\n",
              "          document.querySelector('#df-565a8e71-9003-44e3-8272-aa670e46ccdf button.colab-df-convert');\n",
              "        buttonEl.style.display =\n",
              "          google.colab.kernel.accessAllowed ? 'block' : 'none';\n",
              "\n",
              "        async function convertToInteractive(key) {\n",
              "          const element = document.querySelector('#df-565a8e71-9003-44e3-8272-aa670e46ccdf');\n",
              "          const dataTable =\n",
              "            await google.colab.kernel.invokeFunction('convertToInteractive',\n",
              "                                                     [key], {});\n",
              "          if (!dataTable) return;\n",
              "\n",
              "          const docLinkHtml = 'Like what you see? Visit the ' +\n",
              "            '<a target=\"_blank\" href=https://colab.research.google.com/notebooks/data_table.ipynb>data table notebook</a>'\n",
              "            + ' to learn more about interactive tables.';\n",
              "          element.innerHTML = '';\n",
              "          dataTable['output_type'] = 'display_data';\n",
              "          await google.colab.output.renderOutput(dataTable, element);\n",
              "          const docLink = document.createElement('div');\n",
              "          docLink.innerHTML = docLinkHtml;\n",
              "          element.appendChild(docLink);\n",
              "        }\n",
              "      </script>\n",
              "    </div>\n",
              "  </div>\n",
              "  "
            ]
          },
          "metadata": {},
          "execution_count": 48
        }
      ]
    },
    {
      "cell_type": "code",
      "source": [
        "round(tweets_df['retweet'].mean(),3)\n",
        "tweets_df['publish_date']=pd.to_datetime(tweets_df['publish_date'],\n",
        "                                         infer_datetime_format=True)\n",
        "\n",
        "tweets_df['publish_date'].\\\n",
        "dt.strftime('%H')"
      ],
      "metadata": {
        "colab": {
          "base_uri": "https://localhost:8080/"
        },
        "id": "YCbZI507boTG",
        "outputId": "9d30fcdd-86b6-4712-f8ce-985b38e52750"
      },
      "execution_count": 51,
      "outputs": [
        {
          "output_type": "execute_result",
          "data": {
            "text/plain": [
              "0          19\n",
              "1          22\n",
              "2          22\n",
              "3          23\n",
              "4          02\n",
              "           ..\n",
              "2946202    22\n",
              "2946203    22\n",
              "2946204    22\n",
              "2946205    22\n",
              "2946206    22\n",
              "Name: publish_date, Length: 2946206, dtype: object"
            ]
          },
          "metadata": {},
          "execution_count": 51
        }
      ]
    },
    {
      "cell_type": "code",
      "source": [
        "# Convert str to date/time with pandas\n",
        "tweets_df['publish_date']=pd.to_datetime(tweets_df['publish_date'],\n",
        "                                        infer_datetime_format=True)\n",
        "\n",
        "tweets_df.sort_values('publish_date',ascending=True)\n",
        "\n",
        "# Change formating to US dates\n",
        "tweets_df['publish_date_Only']=tweets_df['publish_date'].\\\n",
        "dt.strftime('%m/%d/%Y')\n",
        "\n",
        "tweets_df['time']=tweets_df['publish_date'].\\\n",
        "dt.strftime('%H')"
      ],
      "metadata": {
        "id": "LFdNmHYbd76J"
      },
      "execution_count": 52,
      "outputs": []
    },
    {
      "cell_type": "code",
      "source": [
        "tweets_df['publish_date_Only']=pd.to_datetime(tweets_df['publish_date_Only'],\n",
        "                                        infer_datetime_format=True)\n",
        "\n",
        "# get range to encapsulate before and after election 2016\n",
        "mask = (tweets_df['publish_date_Only'] > '08/31/2016') &\\\n",
        "(tweets_df['publish_date_Only']  <= '01/01/02017')"
      ],
      "metadata": {
        "id": "a6ojqgVXe5On"
      },
      "execution_count": 54,
      "outputs": []
    },
    {
      "cell_type": "code",
      "source": [
        "troll_dt_rng=tweets_df[tweets_df[\"publish_date_Only\"].isin(pd.date_range('2016-10-01', '2017-01-01'))].\\\n",
        "sort_values('publish_date_Only')"
      ],
      "metadata": {
        "id": "HzckYuP0fU25"
      },
      "execution_count": 55,
      "outputs": []
    },
    {
      "cell_type": "code",
      "source": [
        "#Use this to parse Hastags and @user\n",
        "\n",
        "def tweet_col_regx(df_col,re_pat):\n",
        "  q=[]\n",
        "  for i in df_col:\n",
        "    if type(i)==str and re.findall(re_pat,i):\n",
        "      q.append(re.findall(re_pat,i))\n",
        "    else:\n",
        "      q.append('None')\n",
        "    return q"
      ],
      "metadata": {
        "id": "uSUcD9dfptFR"
      },
      "execution_count": 61,
      "outputs": []
    },
    {
      "cell_type": "code",
      "source": [
        "# extract name of user after the @ symbol:\n",
        "\n",
        "tweet_ref=tweet_col_regx(troll_dt_rng['content_without_http'],r'@(\\S+)')"
      ],
      "metadata": {
        "id": "nuFIKxZctRGW"
      },
      "execution_count": 65,
      "outputs": []
    }
  ]
}